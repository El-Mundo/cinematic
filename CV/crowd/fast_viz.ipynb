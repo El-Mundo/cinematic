{
 "cells": [
  {
   "cell_type": "code",
   "execution_count": 3,
   "metadata": {},
   "outputs": [],
   "source": [
    "import plotly.express as px\n",
    "import pandas as pd\n",
    "\n",
    "###Can be \"num_people\", \"num_heads\", or \"n_heads\" (normalized head count)\n",
    "ATTRIBUTE = \"num_heads\"\n",
    "###Can be \"geo_category\", \"production\", \"year\", or \"type\"\n",
    "GROUPING = \"production\"\n",
    "###Can be \"pos\" or \"frame\"\n",
    "X_AXIS = \"pos\"\n",
    "\n",
    "###Whether show category as GeoCategories or Studios\n",
    "#CATEGORIZE_BY_GEO_CATEGORY= True\n",
    "\n",
    "###Can be \"Feature\", \"Performance\", \"Artistic Documentary\", \"Opera\", or \"Musical\"\n",
    "###Set as None to show all types\n",
    "TYPE_FILTER = \"Feature\"\n",
    "\n",
    "###Show the frames with the maximum heads of each film only\n",
    "###Only supports all types or features\n",
    "MAX_ONLY = False\n",
    "\n",
    "###Chinese films (default), Soviet, or Hollywood\n",
    "GROUP = \"Hollywood\""
   ]
  },
  {
   "cell_type": "code",
   "execution_count": 4,
   "metadata": {},
   "outputs": [
    {
     "data": {
      "application/vnd.plotly.v1+json": {
       "config": {
        "plotlyServerURL": "https://plot.ly"
       },
       "data": [
        {
         "customdata": [
          [
           "Casablanca",
           48
          ],
          [
           "Casablanca",
           50
          ],
          [
           "Casablanca",
           59
          ],
          [
           "Casablanca",
           63
          ],
          [
           "Casablanca",
           64
          ],
          [
           "Casablanca",
           65
          ],
          [
           "Casablanca",
           66
          ],
          [
           "Citizen Kane",
           81
          ],
          [
           "Citizen Kane",
           82
          ],
          [
           "Casablanca",
           84
          ],
          [
           "Citizen Kane",
           85
          ],
          [
           "Casablanca",
           86
          ],
          [
           "Citizen Kane",
           86
          ],
          [
           "Citizen Kane",
           87
          ],
          [
           "Casablanca",
           91
          ],
          [
           "Citizen Kane",
           94
          ],
          [
           "Casablanca",
           99
          ],
          [
           "Citizen Kane",
           110
          ],
          [
           "Citizen Kane",
           111
          ],
          [
           "Citizen Kane",
           115
          ],
          [
           "Casablanca",
           123
          ],
          [
           "Casablanca",
           145
          ],
          [
           "Casablanca",
           146
          ],
          [
           "Casablanca",
           156
          ],
          [
           "Casablanca",
           157
          ],
          [
           "Casablanca",
           165
          ],
          [
           "Great Expectations",
           183
          ],
          [
           "Notorious",
           201
          ],
          [
           "Casablanca",
           208
          ],
          [
           "Casablanca",
           213
          ],
          [
           "Great Expectations",
           214
          ],
          [
           "Great Expectations",
           216
          ],
          [
           "Notorious",
           226
          ],
          [
           "Notorious",
           227
          ],
          [
           "Notorious",
           233
          ],
          [
           "Notorious",
           235
          ],
          [
           "Notorious",
           243
          ],
          [
           "Notorious",
           245
          ],
          [
           "Casablanca",
           259
          ],
          [
           "Notorious",
           261
          ],
          [
           "Casablanca",
           262
          ],
          [
           "Casablanca",
           272
          ],
          [
           "Casablanca",
           275
          ],
          [
           "The Wizard of OZ",
           309
          ],
          [
           "Casablanca",
           328
          ],
          [
           "The Wizard of OZ",
           331
          ],
          [
           "Casablanca",
           335
          ],
          [
           "The Wizard of OZ",
           337
          ],
          [
           "The Wizard of OZ",
           338
          ],
          [
           "The Wizard of OZ",
           343
          ],
          [
           "The Wizard of OZ",
           382
          ],
          [
           "The Wizard of OZ",
           392
          ],
          [
           "The Wizard of OZ",
           399
          ],
          [
           "Citizen Kane",
           411
          ],
          [
           "Casablanca",
           483
          ],
          [
           "Citizen Kane",
           487
          ],
          [
           "Citizen Kane",
           492
          ],
          [
           "Citizen Kane",
           494
          ],
          [
           "Citizen Kane",
           497
          ],
          [
           "Citizen Kane",
           499
          ],
          [
           "Citizen Kane",
           500
          ],
          [
           "Citizen Kane",
           502
          ],
          [
           "Citizen Kane",
           503
          ],
          [
           "Citizen Kane",
           504
          ],
          [
           "Casablanca",
           504
          ],
          [
           "Citizen Kane",
           505
          ],
          [
           "Citizen Kane",
           506
          ],
          [
           "Citizen Kane",
           507
          ],
          [
           "Citizen Kane",
           508
          ],
          [
           "Citizen Kane",
           509
          ],
          [
           "Citizen Kane",
           510
          ],
          [
           "Citizen Kane",
           514
          ],
          [
           "Citizen Kane",
           515
          ],
          [
           "Citizen Kane",
           516
          ],
          [
           "Citizen Kane",
           517
          ],
          [
           "Citizen Kane",
           518
          ],
          [
           "Citizen Kane",
           519
          ],
          [
           "Citizen Kane",
           520
          ],
          [
           "Casablanca",
           521
          ],
          [
           "Citizen Kane",
           528
          ],
          [
           "Citizen Kane",
           534
          ],
          [
           "Citizen Kane",
           556
          ],
          [
           "Citizen Kane",
           557
          ],
          [
           "Citizen Kane",
           561
          ],
          [
           "Citizen Kane",
           563
          ],
          [
           "Citizen Kane",
           568
          ],
          [
           "Notorious",
           603
          ],
          [
           "Notorious",
           612
          ],
          [
           "Great Expectations",
           655
          ],
          [
           "Great Expectations",
           657
          ],
          [
           "Casablanca",
           661
          ],
          [
           "Citizen Kane",
           729
          ],
          [
           "Citizen Kane",
           733
          ],
          [
           "The Wizard of OZ",
           733
          ],
          [
           "Citizen Kane",
           735
          ],
          [
           "Citizen Kane",
           736
          ],
          [
           "Citizen Kane",
           737
          ],
          [
           "Casablanca",
           738
          ],
          [
           "Casablanca",
           739
          ],
          [
           "Casablanca",
           740
          ],
          [
           "The Wizard of OZ",
           742
          ],
          [
           "The Wizard of OZ",
           746
          ],
          [
           "The Wizard of OZ",
           747
          ],
          [
           "Notorious",
           751
          ],
          [
           "Notorious",
           752
          ],
          [
           "Notorious",
           753
          ],
          [
           "Citizen Kane",
           753
          ],
          [
           "Citizen Kane",
           754
          ],
          [
           "Citizen Kane",
           755
          ],
          [
           "The Wizard of OZ",
           757
          ],
          [
           "Citizen Kane",
           761
          ],
          [
           "Notorious",
           766
          ],
          [
           "Citizen Kane",
           768
          ],
          [
           "Grapes of Wrath",
           785
          ],
          [
           "Grapes of Wrath",
           799
          ],
          [
           "Grapes of Wrath",
           807
          ],
          [
           "Casablanca",
           820
          ],
          [
           "Grapes of Wrath",
           823
          ],
          [
           "Great Expectations",
           826
          ],
          [
           "Grapes of Wrath",
           828
          ],
          [
           "Great Expectations",
           832
          ],
          [
           "Great Expectations",
           833
          ],
          [
           "Grapes of Wrath",
           838
          ],
          [
           "Grapes of Wrath",
           839
          ],
          [
           "Great Expectations",
           839
          ],
          [
           "Great Expectations",
           840
          ],
          [
           "Great Expectations",
           841
          ],
          [
           "Grapes of Wrath",
           842
          ],
          [
           "Great Expectations",
           846
          ],
          [
           "Grapes of Wrath",
           846
          ],
          [
           "Grapes of Wrath",
           847
          ],
          [
           "Great Expectations",
           847
          ],
          [
           "Great Expectations",
           850
          ],
          [
           "Grapes of Wrath",
           853
          ],
          [
           "Grapes of Wrath",
           860
          ],
          [
           "Casablanca",
           883
          ],
          [
           "Casablanca",
           885
          ],
          [
           "Casablanca",
           886
          ],
          [
           "Citizen Kane",
           910
          ],
          [
           "Citizen Kane",
           912
          ],
          [
           "Grapes of Wrath",
           915
          ],
          [
           "Citizen Kane",
           924
          ],
          [
           "Grapes of Wrath",
           960
          ],
          [
           "Grapes of Wrath",
           961
          ],
          [
           "Grapes of Wrath",
           963
          ],
          [
           "Grapes of Wrath",
           968
          ],
          [
           "Grapes of Wrath",
           975
          ],
          [
           "Grapes of Wrath",
           976
          ],
          [
           "Grapes of Wrath",
           985
          ],
          [
           "Grapes of Wrath",
           1020
          ],
          [
           "Citizen Kane",
           1080
          ],
          [
           "Notorious",
           1081
          ],
          [
           "The Wizard of OZ",
           1131
          ],
          [
           "The Wizard of OZ",
           1132
          ],
          [
           "The Wizard of OZ",
           1160
          ],
          [
           "Great Expectations",
           1225
          ],
          [
           "Great Expectations",
           1229
          ],
          [
           "Great Expectations",
           1231
          ],
          [
           "Great Expectations",
           1232
          ],
          [
           "Citizen Kane",
           1237
          ],
          [
           "Grapes of Wrath",
           1310
          ],
          [
           "Grapes of Wrath",
           1314
          ],
          [
           "Grapes of Wrath",
           1323
          ],
          [
           "Citizen Kane",
           1327
          ],
          [
           "Grapes of Wrath",
           1348
          ],
          [
           "Grapes of Wrath",
           1349
          ],
          [
           "Citizen Kane",
           1349
          ],
          [
           "Grapes of Wrath",
           1358
          ],
          [
           "Citizen Kane",
           1362
          ]
         ],
         "hovertemplate": "<b>%{hovertext}</b><br><br>production=Hollywood<br>pos=%{x}<br>num_heads=%{y}<br>film=%{customdata[0]}<br>frame=%{customdata[1]}<extra></extra>",
         "hovertext": [
          "Casablanca",
          "Casablanca",
          "Casablanca",
          "Casablanca",
          "Casablanca",
          "Casablanca",
          "Casablanca",
          "Citizen Kane",
          "Citizen Kane",
          "Casablanca",
          "Citizen Kane",
          "Casablanca",
          "Citizen Kane",
          "Citizen Kane",
          "Casablanca",
          "Citizen Kane",
          "Casablanca",
          "Citizen Kane",
          "Citizen Kane",
          "Citizen Kane",
          "Casablanca",
          "Casablanca",
          "Casablanca",
          "Casablanca",
          "Casablanca",
          "Casablanca",
          "Great Expectations",
          "Notorious",
          "Casablanca",
          "Casablanca",
          "Great Expectations",
          "Great Expectations",
          "Notorious",
          "Notorious",
          "Notorious",
          "Notorious",
          "Notorious",
          "Notorious",
          "Casablanca",
          "Notorious",
          "Casablanca",
          "Casablanca",
          "Casablanca",
          "The Wizard of OZ",
          "Casablanca",
          "The Wizard of OZ",
          "Casablanca",
          "The Wizard of OZ",
          "The Wizard of OZ",
          "The Wizard of OZ",
          "The Wizard of OZ",
          "The Wizard of OZ",
          "The Wizard of OZ",
          "Citizen Kane",
          "Casablanca",
          "Citizen Kane",
          "Citizen Kane",
          "Citizen Kane",
          "Citizen Kane",
          "Citizen Kane",
          "Citizen Kane",
          "Citizen Kane",
          "Citizen Kane",
          "Citizen Kane",
          "Casablanca",
          "Citizen Kane",
          "Citizen Kane",
          "Citizen Kane",
          "Citizen Kane",
          "Citizen Kane",
          "Citizen Kane",
          "Citizen Kane",
          "Citizen Kane",
          "Citizen Kane",
          "Citizen Kane",
          "Citizen Kane",
          "Citizen Kane",
          "Citizen Kane",
          "Casablanca",
          "Citizen Kane",
          "Citizen Kane",
          "Citizen Kane",
          "Citizen Kane",
          "Citizen Kane",
          "Citizen Kane",
          "Citizen Kane",
          "Notorious",
          "Notorious",
          "Great Expectations",
          "Great Expectations",
          "Casablanca",
          "Citizen Kane",
          "Citizen Kane",
          "The Wizard of OZ",
          "Citizen Kane",
          "Citizen Kane",
          "Citizen Kane",
          "Casablanca",
          "Casablanca",
          "Casablanca",
          "The Wizard of OZ",
          "The Wizard of OZ",
          "The Wizard of OZ",
          "Notorious",
          "Notorious",
          "Notorious",
          "Citizen Kane",
          "Citizen Kane",
          "Citizen Kane",
          "The Wizard of OZ",
          "Citizen Kane",
          "Notorious",
          "Citizen Kane",
          "Grapes of Wrath",
          "Grapes of Wrath",
          "Grapes of Wrath",
          "Casablanca",
          "Grapes of Wrath",
          "Great Expectations",
          "Grapes of Wrath",
          "Great Expectations",
          "Great Expectations",
          "Grapes of Wrath",
          "Grapes of Wrath",
          "Great Expectations",
          "Great Expectations",
          "Great Expectations",
          "Grapes of Wrath",
          "Great Expectations",
          "Grapes of Wrath",
          "Grapes of Wrath",
          "Great Expectations",
          "Great Expectations",
          "Grapes of Wrath",
          "Grapes of Wrath",
          "Casablanca",
          "Casablanca",
          "Casablanca",
          "Citizen Kane",
          "Citizen Kane",
          "Grapes of Wrath",
          "Citizen Kane",
          "Grapes of Wrath",
          "Grapes of Wrath",
          "Grapes of Wrath",
          "Grapes of Wrath",
          "Grapes of Wrath",
          "Grapes of Wrath",
          "Grapes of Wrath",
          "Grapes of Wrath",
          "Citizen Kane",
          "Notorious",
          "The Wizard of OZ",
          "The Wizard of OZ",
          "The Wizard of OZ",
          "Great Expectations",
          "Great Expectations",
          "Great Expectations",
          "Great Expectations",
          "Citizen Kane",
          "Grapes of Wrath",
          "Grapes of Wrath",
          "Grapes of Wrath",
          "Citizen Kane",
          "Grapes of Wrath",
          "Grapes of Wrath",
          "Citizen Kane",
          "Grapes of Wrath",
          "Citizen Kane"
         ],
         "legendgroup": "Hollywood",
         "marker": {
          "color": "#636efa",
          "symbol": "circle"
         },
         "mode": "markers",
         "name": "Hollywood",
         "orientation": "v",
         "showlegend": true,
         "type": "scatter",
         "x": [
          0.0389926888708367,
          0.0406173842404549,
          0.0479285134037368,
          0.0511779041429731,
          0.0519902518277822,
          0.0528025995125913,
          0.0536149471974004,
          0.0565247732030704,
          0.0572226099092812,
          0.0682372055239642,
          0.0593161200279134,
          0.0698619008935824,
          0.0600139567341242,
          0.0607117934403349,
          0.0739236393176279,
          0.0655966503838101,
          0.0804224207961007,
          0.0767620376831821,
          0.0774598743893928,
          0.0802512212142358,
          0.099918765231519,
          0.1177904142973192,
          0.1186027619821283,
          0.1267262388302193,
          0.1275385865150284,
          0.1340373679935012,
          0.1288732394366197,
          0.1646191646191646,
          0.1689683184402924,
          0.1730300568643379,
          0.1507042253521126,
          0.152112676056338,
          0.1850941850941851,
          0.1859131859131859,
          0.1908271908271908,
          0.1924651924651924,
          0.199017199017199,
          0.2006552006552006,
          0.2103980503655564,
          0.2137592137592137,
          0.2128350934199837,
          0.2209585702680747,
          0.223395613322502,
          0.2528641571194763,
          0.2664500406173842,
          0.2708674304418985,
          0.2721364744110479,
          0.2757774140752864,
          0.2765957446808511,
          0.2806873977086743,
          0.3126022913256955,
          0.320785597381342,
          0.3265139116202946,
          0.2868108862526169,
          0.3923639317627945,
          0.3398464759246336,
          0.3433356594556874,
          0.3447313328681088,
          0.3468248429867411,
          0.3482205163991625,
          0.3489183531053733,
          0.3503140265177948,
          0.3510118632240055,
          0.3517096999302163,
          0.4094232331437855,
          0.3524075366364271,
          0.3531053733426378,
          0.3538032100488485,
          0.3545010467550593,
          0.35519888346127,
          0.3558967201674808,
          0.3586880669923238,
          0.3593859036985345,
          0.3600837404047453,
          0.360781577110956,
          0.3614794138171668,
          0.3621772505233775,
          0.3628750872295883,
          0.4232331437855402,
          0.3684577808792743,
          0.3726448011165387,
          0.3879972086531751,
          0.3886950453593859,
          0.3914863921842288,
          0.3928820655966504,
          0.3963712491277041,
          0.4938574938574938,
          0.5012285012285013,
          0.4612676056338028,
          0.4626760563380281,
          0.536961819658814,
          0.5087229588276343,
          0.5115143056524774,
          0.599836333878887,
          0.5129099790648988,
          0.5136078157711096,
          0.5143056524773203,
          0.5995125913891145,
          0.6003249390739236,
          0.6011372867587328,
          0.6072013093289689,
          0.6104746317512275,
          0.6112929623567921,
          0.6150696150696151,
          0.6158886158886159,
          0.6167076167076168,
          0.5254710397766923,
          0.526168876482903,
          0.5268667131891137,
          0.6194762684124386,
          0.5310537334263782,
          0.6273546273546273,
          0.5359385903698535,
          0.50417469492614,
          0.5131663455362877,
          0.5183044315992292,
          0.6661251015434606,
          0.5285806037251124,
          0.5816901408450704,
          0.5317919075144508,
          0.5859154929577465,
          0.5866197183098592,
          0.5382145150931278,
          0.5388567758509955,
          0.5908450704225352,
          0.5915492957746479,
          0.5922535211267606,
          0.5407835581245986,
          0.5957746478873239,
          0.5433526011560693,
          0.5439948619139371,
          0.5964788732394366,
          0.5985915492957746,
          0.5478484264611432,
          0.552344251766217,
          0.7173030056864338,
          0.718927701056052,
          0.7197400487408611,
          0.6350314026517795,
          0.636427076064201,
          0.5876685934489403,
          0.64480111653873,
          0.6165703275529865,
          0.6172125883108542,
          0.6184971098265896,
          0.6217084136159281,
          0.626204238921002,
          0.6268464996788696,
          0.6326268464996788,
          0.6551059730250481,
          0.7536636427076064,
          0.8853398853398854,
          0.925531914893617,
          0.9263502454991815,
          0.9492635024549918,
          0.8626760563380281,
          0.8654929577464788,
          0.8669014084507042,
          0.8676056338028169,
          0.8632240055826936,
          0.8413615928066795,
          0.8439306358381503,
          0.8497109826589595,
          0.9260293091416608,
          0.8657675016056519,
          0.8664097623635196,
          0.9413817166782972,
          0.8721901091843288,
          0.9504535938590368
         ],
         "xaxis": "x",
         "y": [
          26,
          27,
          36,
          46,
          24,
          28,
          17,
          16,
          18,
          27,
          17,
          21,
          16,
          17,
          13,
          18,
          19,
          28,
          25,
          16,
          18,
          12,
          12,
          41,
          46,
          57,
          33,
          17,
          14,
          15,
          28,
          12,
          19,
          22,
          12,
          16,
          16,
          14,
          13,
          14,
          19,
          19,
          12,
          24,
          22,
          57,
          22,
          53,
          34,
          32,
          19,
          16,
          46,
          15,
          41,
          10,
          20,
          17,
          12,
          15,
          31,
          44,
          49,
          30,
          12,
          36,
          39,
          30,
          33,
          24,
          28,
          17,
          19,
          25,
          25,
          36,
          26,
          22,
          25,
          21,
          15,
          13,
          13,
          12,
          14,
          10,
          11,
          16,
          12,
          16,
          16,
          17,
          12,
          45,
          21,
          16,
          14,
          23,
          14,
          30,
          9,
          31,
          24,
          58,
          61,
          35,
          17,
          17,
          13,
          75,
          16,
          22,
          8,
          43,
          57,
          32,
          18,
          23,
          21,
          36,
          20,
          21,
          56,
          52,
          45,
          33,
          39,
          14,
          16,
          17,
          14,
          24,
          42,
          16,
          11,
          30,
          24,
          24,
          17,
          11,
          21,
          46,
          81,
          72,
          40,
          18,
          20,
          24,
          21,
          17,
          42,
          15,
          49,
          16,
          16,
          40,
          16,
          12,
          14,
          22,
          22,
          12,
          31,
          11,
          57,
          63,
          79,
          22,
          14
         ],
         "yaxis": "y"
        }
       ],
       "layout": {
        "legend": {
         "title": {
          "text": "production"
         },
         "tracegroupgap": 0
        },
        "template": {
         "data": {
          "bar": [
           {
            "error_x": {
             "color": "#2a3f5f"
            },
            "error_y": {
             "color": "#2a3f5f"
            },
            "marker": {
             "line": {
              "color": "#E5ECF6",
              "width": 0.5
             },
             "pattern": {
              "fillmode": "overlay",
              "size": 10,
              "solidity": 0.2
             }
            },
            "type": "bar"
           }
          ],
          "barpolar": [
           {
            "marker": {
             "line": {
              "color": "#E5ECF6",
              "width": 0.5
             },
             "pattern": {
              "fillmode": "overlay",
              "size": 10,
              "solidity": 0.2
             }
            },
            "type": "barpolar"
           }
          ],
          "carpet": [
           {
            "aaxis": {
             "endlinecolor": "#2a3f5f",
             "gridcolor": "white",
             "linecolor": "white",
             "minorgridcolor": "white",
             "startlinecolor": "#2a3f5f"
            },
            "baxis": {
             "endlinecolor": "#2a3f5f",
             "gridcolor": "white",
             "linecolor": "white",
             "minorgridcolor": "white",
             "startlinecolor": "#2a3f5f"
            },
            "type": "carpet"
           }
          ],
          "choropleth": [
           {
            "colorbar": {
             "outlinewidth": 0,
             "ticks": ""
            },
            "type": "choropleth"
           }
          ],
          "contour": [
           {
            "colorbar": {
             "outlinewidth": 0,
             "ticks": ""
            },
            "colorscale": [
             [
              0,
              "#0d0887"
             ],
             [
              0.1111111111111111,
              "#46039f"
             ],
             [
              0.2222222222222222,
              "#7201a8"
             ],
             [
              0.3333333333333333,
              "#9c179e"
             ],
             [
              0.4444444444444444,
              "#bd3786"
             ],
             [
              0.5555555555555556,
              "#d8576b"
             ],
             [
              0.6666666666666666,
              "#ed7953"
             ],
             [
              0.7777777777777778,
              "#fb9f3a"
             ],
             [
              0.8888888888888888,
              "#fdca26"
             ],
             [
              1,
              "#f0f921"
             ]
            ],
            "type": "contour"
           }
          ],
          "contourcarpet": [
           {
            "colorbar": {
             "outlinewidth": 0,
             "ticks": ""
            },
            "type": "contourcarpet"
           }
          ],
          "heatmap": [
           {
            "colorbar": {
             "outlinewidth": 0,
             "ticks": ""
            },
            "colorscale": [
             [
              0,
              "#0d0887"
             ],
             [
              0.1111111111111111,
              "#46039f"
             ],
             [
              0.2222222222222222,
              "#7201a8"
             ],
             [
              0.3333333333333333,
              "#9c179e"
             ],
             [
              0.4444444444444444,
              "#bd3786"
             ],
             [
              0.5555555555555556,
              "#d8576b"
             ],
             [
              0.6666666666666666,
              "#ed7953"
             ],
             [
              0.7777777777777778,
              "#fb9f3a"
             ],
             [
              0.8888888888888888,
              "#fdca26"
             ],
             [
              1,
              "#f0f921"
             ]
            ],
            "type": "heatmap"
           }
          ],
          "heatmapgl": [
           {
            "colorbar": {
             "outlinewidth": 0,
             "ticks": ""
            },
            "colorscale": [
             [
              0,
              "#0d0887"
             ],
             [
              0.1111111111111111,
              "#46039f"
             ],
             [
              0.2222222222222222,
              "#7201a8"
             ],
             [
              0.3333333333333333,
              "#9c179e"
             ],
             [
              0.4444444444444444,
              "#bd3786"
             ],
             [
              0.5555555555555556,
              "#d8576b"
             ],
             [
              0.6666666666666666,
              "#ed7953"
             ],
             [
              0.7777777777777778,
              "#fb9f3a"
             ],
             [
              0.8888888888888888,
              "#fdca26"
             ],
             [
              1,
              "#f0f921"
             ]
            ],
            "type": "heatmapgl"
           }
          ],
          "histogram": [
           {
            "marker": {
             "pattern": {
              "fillmode": "overlay",
              "size": 10,
              "solidity": 0.2
             }
            },
            "type": "histogram"
           }
          ],
          "histogram2d": [
           {
            "colorbar": {
             "outlinewidth": 0,
             "ticks": ""
            },
            "colorscale": [
             [
              0,
              "#0d0887"
             ],
             [
              0.1111111111111111,
              "#46039f"
             ],
             [
              0.2222222222222222,
              "#7201a8"
             ],
             [
              0.3333333333333333,
              "#9c179e"
             ],
             [
              0.4444444444444444,
              "#bd3786"
             ],
             [
              0.5555555555555556,
              "#d8576b"
             ],
             [
              0.6666666666666666,
              "#ed7953"
             ],
             [
              0.7777777777777778,
              "#fb9f3a"
             ],
             [
              0.8888888888888888,
              "#fdca26"
             ],
             [
              1,
              "#f0f921"
             ]
            ],
            "type": "histogram2d"
           }
          ],
          "histogram2dcontour": [
           {
            "colorbar": {
             "outlinewidth": 0,
             "ticks": ""
            },
            "colorscale": [
             [
              0,
              "#0d0887"
             ],
             [
              0.1111111111111111,
              "#46039f"
             ],
             [
              0.2222222222222222,
              "#7201a8"
             ],
             [
              0.3333333333333333,
              "#9c179e"
             ],
             [
              0.4444444444444444,
              "#bd3786"
             ],
             [
              0.5555555555555556,
              "#d8576b"
             ],
             [
              0.6666666666666666,
              "#ed7953"
             ],
             [
              0.7777777777777778,
              "#fb9f3a"
             ],
             [
              0.8888888888888888,
              "#fdca26"
             ],
             [
              1,
              "#f0f921"
             ]
            ],
            "type": "histogram2dcontour"
           }
          ],
          "mesh3d": [
           {
            "colorbar": {
             "outlinewidth": 0,
             "ticks": ""
            },
            "type": "mesh3d"
           }
          ],
          "parcoords": [
           {
            "line": {
             "colorbar": {
              "outlinewidth": 0,
              "ticks": ""
             }
            },
            "type": "parcoords"
           }
          ],
          "pie": [
           {
            "automargin": true,
            "type": "pie"
           }
          ],
          "scatter": [
           {
            "fillpattern": {
             "fillmode": "overlay",
             "size": 10,
             "solidity": 0.2
            },
            "type": "scatter"
           }
          ],
          "scatter3d": [
           {
            "line": {
             "colorbar": {
              "outlinewidth": 0,
              "ticks": ""
             }
            },
            "marker": {
             "colorbar": {
              "outlinewidth": 0,
              "ticks": ""
             }
            },
            "type": "scatter3d"
           }
          ],
          "scattercarpet": [
           {
            "marker": {
             "colorbar": {
              "outlinewidth": 0,
              "ticks": ""
             }
            },
            "type": "scattercarpet"
           }
          ],
          "scattergeo": [
           {
            "marker": {
             "colorbar": {
              "outlinewidth": 0,
              "ticks": ""
             }
            },
            "type": "scattergeo"
           }
          ],
          "scattergl": [
           {
            "marker": {
             "colorbar": {
              "outlinewidth": 0,
              "ticks": ""
             }
            },
            "type": "scattergl"
           }
          ],
          "scattermapbox": [
           {
            "marker": {
             "colorbar": {
              "outlinewidth": 0,
              "ticks": ""
             }
            },
            "type": "scattermapbox"
           }
          ],
          "scatterpolar": [
           {
            "marker": {
             "colorbar": {
              "outlinewidth": 0,
              "ticks": ""
             }
            },
            "type": "scatterpolar"
           }
          ],
          "scatterpolargl": [
           {
            "marker": {
             "colorbar": {
              "outlinewidth": 0,
              "ticks": ""
             }
            },
            "type": "scatterpolargl"
           }
          ],
          "scatterternary": [
           {
            "marker": {
             "colorbar": {
              "outlinewidth": 0,
              "ticks": ""
             }
            },
            "type": "scatterternary"
           }
          ],
          "surface": [
           {
            "colorbar": {
             "outlinewidth": 0,
             "ticks": ""
            },
            "colorscale": [
             [
              0,
              "#0d0887"
             ],
             [
              0.1111111111111111,
              "#46039f"
             ],
             [
              0.2222222222222222,
              "#7201a8"
             ],
             [
              0.3333333333333333,
              "#9c179e"
             ],
             [
              0.4444444444444444,
              "#bd3786"
             ],
             [
              0.5555555555555556,
              "#d8576b"
             ],
             [
              0.6666666666666666,
              "#ed7953"
             ],
             [
              0.7777777777777778,
              "#fb9f3a"
             ],
             [
              0.8888888888888888,
              "#fdca26"
             ],
             [
              1,
              "#f0f921"
             ]
            ],
            "type": "surface"
           }
          ],
          "table": [
           {
            "cells": {
             "fill": {
              "color": "#EBF0F8"
             },
             "line": {
              "color": "white"
             }
            },
            "header": {
             "fill": {
              "color": "#C8D4E3"
             },
             "line": {
              "color": "white"
             }
            },
            "type": "table"
           }
          ]
         },
         "layout": {
          "annotationdefaults": {
           "arrowcolor": "#2a3f5f",
           "arrowhead": 0,
           "arrowwidth": 1
          },
          "autotypenumbers": "strict",
          "coloraxis": {
           "colorbar": {
            "outlinewidth": 0,
            "ticks": ""
           }
          },
          "colorscale": {
           "diverging": [
            [
             0,
             "#8e0152"
            ],
            [
             0.1,
             "#c51b7d"
            ],
            [
             0.2,
             "#de77ae"
            ],
            [
             0.3,
             "#f1b6da"
            ],
            [
             0.4,
             "#fde0ef"
            ],
            [
             0.5,
             "#f7f7f7"
            ],
            [
             0.6,
             "#e6f5d0"
            ],
            [
             0.7,
             "#b8e186"
            ],
            [
             0.8,
             "#7fbc41"
            ],
            [
             0.9,
             "#4d9221"
            ],
            [
             1,
             "#276419"
            ]
           ],
           "sequential": [
            [
             0,
             "#0d0887"
            ],
            [
             0.1111111111111111,
             "#46039f"
            ],
            [
             0.2222222222222222,
             "#7201a8"
            ],
            [
             0.3333333333333333,
             "#9c179e"
            ],
            [
             0.4444444444444444,
             "#bd3786"
            ],
            [
             0.5555555555555556,
             "#d8576b"
            ],
            [
             0.6666666666666666,
             "#ed7953"
            ],
            [
             0.7777777777777778,
             "#fb9f3a"
            ],
            [
             0.8888888888888888,
             "#fdca26"
            ],
            [
             1,
             "#f0f921"
            ]
           ],
           "sequentialminus": [
            [
             0,
             "#0d0887"
            ],
            [
             0.1111111111111111,
             "#46039f"
            ],
            [
             0.2222222222222222,
             "#7201a8"
            ],
            [
             0.3333333333333333,
             "#9c179e"
            ],
            [
             0.4444444444444444,
             "#bd3786"
            ],
            [
             0.5555555555555556,
             "#d8576b"
            ],
            [
             0.6666666666666666,
             "#ed7953"
            ],
            [
             0.7777777777777778,
             "#fb9f3a"
            ],
            [
             0.8888888888888888,
             "#fdca26"
            ],
            [
             1,
             "#f0f921"
            ]
           ]
          },
          "colorway": [
           "#636efa",
           "#EF553B",
           "#00cc96",
           "#ab63fa",
           "#FFA15A",
           "#19d3f3",
           "#FF6692",
           "#B6E880",
           "#FF97FF",
           "#FECB52"
          ],
          "font": {
           "color": "#2a3f5f"
          },
          "geo": {
           "bgcolor": "white",
           "lakecolor": "white",
           "landcolor": "#E5ECF6",
           "showlakes": true,
           "showland": true,
           "subunitcolor": "white"
          },
          "hoverlabel": {
           "align": "left"
          },
          "hovermode": "closest",
          "mapbox": {
           "style": "light"
          },
          "paper_bgcolor": "white",
          "plot_bgcolor": "#E5ECF6",
          "polar": {
           "angularaxis": {
            "gridcolor": "white",
            "linecolor": "white",
            "ticks": ""
           },
           "bgcolor": "#E5ECF6",
           "radialaxis": {
            "gridcolor": "white",
            "linecolor": "white",
            "ticks": ""
           }
          },
          "scene": {
           "xaxis": {
            "backgroundcolor": "#E5ECF6",
            "gridcolor": "white",
            "gridwidth": 2,
            "linecolor": "white",
            "showbackground": true,
            "ticks": "",
            "zerolinecolor": "white"
           },
           "yaxis": {
            "backgroundcolor": "#E5ECF6",
            "gridcolor": "white",
            "gridwidth": 2,
            "linecolor": "white",
            "showbackground": true,
            "ticks": "",
            "zerolinecolor": "white"
           },
           "zaxis": {
            "backgroundcolor": "#E5ECF6",
            "gridcolor": "white",
            "gridwidth": 2,
            "linecolor": "white",
            "showbackground": true,
            "ticks": "",
            "zerolinecolor": "white"
           }
          },
          "shapedefaults": {
           "line": {
            "color": "#2a3f5f"
           }
          },
          "ternary": {
           "aaxis": {
            "gridcolor": "white",
            "linecolor": "white",
            "ticks": ""
           },
           "baxis": {
            "gridcolor": "white",
            "linecolor": "white",
            "ticks": ""
           },
           "bgcolor": "#E5ECF6",
           "caxis": {
            "gridcolor": "white",
            "linecolor": "white",
            "ticks": ""
           }
          },
          "title": {
           "x": 0.05
          },
          "xaxis": {
           "automargin": true,
           "gridcolor": "white",
           "linecolor": "white",
           "ticks": "",
           "title": {
            "standoff": 15
           },
           "zerolinecolor": "white",
           "zerolinewidth": 2
          },
          "yaxis": {
           "automargin": true,
           "gridcolor": "white",
           "linecolor": "white",
           "ticks": "",
           "title": {
            "standoff": 15
           },
           "zerolinecolor": "white",
           "zerolinewidth": 2
          }
         }
        },
        "title": {
         "text": "Crowd Sizes Distributed in Feature Films"
        },
        "xaxis": {
         "anchor": "y",
         "domain": [
          0,
          1
         ],
         "title": {
          "text": "pos"
         }
        },
        "yaxis": {
         "anchor": "x",
         "domain": [
          0,
          1
         ],
         "title": {
          "text": "num_heads"
         }
        }
       }
      }
     },
     "metadata": {},
     "output_type": "display_data"
    }
   ],
   "source": [
    "tarpath = \"../crowd_results.csv\" if TYPE_FILTER is None else \"./crowd_results-{}.csv\".format(TYPE_FILTER)\n",
    "if GROUP == \"Soviet\":\n",
    "    tarpath = \"../crowd_results-Soviet.csv\"\n",
    "elif GROUP == \"Hollywood\":\n",
    "    tarpath = \"../crowd_results-Hollywood.csv\"\n",
    "if MAX_ONLY:\n",
    "    tarpath = tarpath.replace(\".csv\", \"-max.csv\")\n",
    "\n",
    "df = pd.read_csv(tarpath)\n",
    "df = df.sort_values(by=\"frame\")\n",
    "\n",
    "cap = \"Crowd Sizes\" if ATTRIBUTE == \"num_people\" or ATTRIBUTE == \"num_heads\" else \"Normalized Crowd Sizes\"\n",
    "if MAX_ONLY:\n",
    "    cap = \"Crowds with Maximum Head Count\"\n",
    "\n",
    "# Display the data frame in Plotly scatter plot\n",
    "fig = px.scatter(df, x=X_AXIS, y=ATTRIBUTE, color=GROUPING, hover_name=\"film\", hover_data=[\"film\",\"frame\"], title=\"{} Distributed in {}Films\".format(cap, \"All \" if TYPE_FILTER is None else f\"{TYPE_FILTER} \"))\n",
    "fig.show()"
   ]
  }
 ],
 "metadata": {
  "kernelspec": {
   "display_name": "Python 3",
   "language": "python",
   "name": "python3"
  },
  "language_info": {
   "codemirror_mode": {
    "name": "ipython",
    "version": 3
   },
   "file_extension": ".py",
   "mimetype": "text/x-python",
   "name": "python",
   "nbconvert_exporter": "python",
   "pygments_lexer": "ipython3",
   "version": "3.9.6"
  },
  "orig_nbformat": 4
 },
 "nbformat": 4,
 "nbformat_minor": 2
}
