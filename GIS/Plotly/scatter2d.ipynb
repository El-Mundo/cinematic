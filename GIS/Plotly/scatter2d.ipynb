{
 "cells": [
  {
   "cell_type": "code",
   "execution_count": 47,
   "metadata": {},
   "outputs": [],
   "source": [
    "import plotly.express as px\n",
    "import pandas as pd\n",
    "\n",
    "###Whether show category as GeoCategories or Studios\n",
    "CATEGORIZE_BY_GEO_CATEGORY= True\n",
    "###Can be \"Count\", \"Length\", or \"Colour\"\n",
    "ATTRIBUTE = \"Count\"\n",
    "\n",
    "###Read feature-movie-only or all\n",
    "FEATURE_ONLY = True"
   ]
  },
  {
   "cell_type": "code",
   "execution_count": 48,
   "metadata": {},
   "outputs": [
    {
     "data": {
      "application/vnd.plotly.v1+json": {
       "config": {
        "plotlyServerURL": "https://plot.ly"
       },
       "data": [
        {
         "customdata": [
          [
           0,
           9.5
          ],
          [
           0,
           10
          ],
          [
           0,
           3
          ],
          [
           0,
           10
          ],
          [
           0,
           9.333333333333334
          ],
          [
           0,
           10
          ],
          [
           0,
           9.625
          ],
          [
           0,
           8.076923076923077
          ],
          [
           0.0909090909090909,
           9.090909090909092
          ],
          [
           0.125,
           8.869565217391305
          ],
          [
           0.5238095238095238,
           10.523809523809524
          ],
          [
           0,
           9.5
          ],
          [
           0.4,
           10
          ],
          [
           0.3333333333333333,
           10
          ],
          [
           0.2857142857142857,
           9.857142857142858
          ],
          [
           0.4,
           10.8
          ],
          [
           0.3333333333333333,
           9.833333333333334
          ],
          [
           0,
           8
          ]
         ],
         "hovertemplate": "<b>%{hovertext}</b><br><br>GeoCategory=Northeast<br>Year=%{x}<br>Count=%{y}<br>Colour=%{customdata[0]}<br>Length=%{customdata[1]}<extra></extra>",
         "hovertext": [
          "Northeast",
          "Northeast",
          "Northeast",
          "Northeast",
          "Northeast",
          "Northeast",
          "Northeast",
          "Northeast",
          "Northeast",
          "Northeast",
          "Northeast",
          "Northeast",
          "Northeast",
          "Northeast",
          "Northeast",
          "Northeast",
          "Northeast",
          "Northeast"
         ],
         "legendgroup": "Northeast",
         "line": {
          "color": "#72d2ed",
          "dash": "solid"
         },
         "marker": {
          "symbol": "circle"
         },
         "mode": "lines",
         "name": "Northeast",
         "orientation": "v",
         "showlegend": true,
         "type": "scatter",
         "x": [
          1949,
          1950,
          1951,
          1952,
          1953,
          1954,
          1955,
          1956,
          1957,
          1958,
          1959,
          1960,
          1961,
          1962,
          1963,
          1964,
          1965,
          1966
         ],
         "xaxis": "x",
         "y": [
          6,
          13,
          1,
          2,
          3,
          6,
          8,
          13,
          11,
          24,
          21,
          10,
          5,
          3,
          7,
          5,
          6,
          1
         ],
         "yaxis": "y"
        },
        {
         "customdata": [
          [
           0,
           10
          ],
          [
           0,
           10.074074074074074
          ],
          [
           0,
           9.882352941176473
          ],
          [
           0,
           11.125
          ],
          [
           0,
           9.555555555555555
          ],
          [
           0,
           9.666666666666666
          ],
          [
           0,
           9.647058823529411
          ],
          [
           0.032258064516129,
           8.774193548387096
          ],
          [
           0.1515151515151515,
           9.12121212121212
          ],
          [
           0.1076923076923077,
           8.828125
          ],
          [
           0.492063492063492,
           10.081967213114757
          ],
          [
           0.1777777777777777,
           9.6
          ],
          [
           0.3333333333333333,
           10.25
          ],
          [
           0.28,
           9.92
          ],
          [
           0.1290322580645161,
           10.333333333333334
          ],
          [
           0.44,
           10.32
          ],
          [
           0.1739130434782608,
           10.391304347826088
          ],
          [
           0.1111111111111111,
           9.22222222222222
          ]
         ],
         "hovertemplate": "<b>%{hovertext}</b><br><br>GeoCategory=All<br>Year=%{x}<br>Count=%{y}<br>Colour=%{customdata[0]}<br>Length=%{customdata[1]}<extra></extra>",
         "hovertext": [
          "All",
          "All",
          "All",
          "All",
          "All",
          "All",
          "All",
          "All",
          "All",
          "All",
          "All",
          "All",
          "All",
          "All",
          "All",
          "All",
          "All",
          "All"
         ],
         "legendgroup": "All",
         "line": {
          "color": "#ff5250",
          "dash": "solid"
         },
         "marker": {
          "symbol": "circle"
         },
         "mode": "lines",
         "name": "All",
         "orientation": "v",
         "showlegend": true,
         "type": "scatter",
         "x": [
          1949,
          1950,
          1951,
          1952,
          1953,
          1954,
          1955,
          1956,
          1957,
          1958,
          1959,
          1960,
          1961,
          1962,
          1963,
          1964,
          1965,
          1966
         ],
         "xaxis": "x",
         "y": [
          44,
          42,
          31,
          9,
          9,
          18,
          17,
          31,
          33,
          65,
          63,
          45,
          21,
          25,
          31,
          25,
          23,
          9
         ],
         "yaxis": "y"
        },
        {
         "customdata": [
          [
           0,
           10.75
          ],
          [
           0,
           12.142857142857142
          ],
          [
           0,
           10.571428571428571
          ],
          [
           0,
           11
          ],
          [
           0,
           9.333333333333334
          ]
         ],
         "hovertemplate": "<b>%{hovertext}</b><br><br>GeoCategory=Shanghai (private)<br>Year=%{x}<br>Count=%{y}<br>Colour=%{customdata[0]}<br>Length=%{customdata[1]}<extra></extra>",
         "hovertext": [
          "Shanghai (private)",
          "Shanghai (private)",
          "Shanghai (private)",
          "Shanghai (private)",
          "Shanghai (private)"
         ],
         "legendgroup": "Shanghai (private)",
         "line": {
          "color": "#404840",
          "dash": "solid"
         },
         "marker": {
          "symbol": "circle"
         },
         "mode": "lines",
         "name": "Shanghai (private)",
         "orientation": "v",
         "showlegend": true,
         "type": "scatter",
         "x": [
          1949,
          1950,
          1951,
          1952,
          1953
         ],
         "xaxis": "x",
         "y": [
          34,
          22,
          21,
          4,
          3
         ],
         "yaxis": "y"
        },
        {
         "customdata": [
          [
           0,
           9.5
          ],
          [
           0,
           9.833333333333334
          ],
          [
           0,
           13
          ],
          [
           0,
           12
          ],
          [
           0,
           9.7
          ],
          [
           0,
           10.375
          ],
          [
           0,
           9.846153846153848
          ],
          [
           0.2,
           10
          ],
          [
           0.0454545454545454,
           8.5
          ],
          [
           0.45,
           10.055555555555555
          ],
          [
           0.3333333333333333,
           10.333333333333334
          ],
          [
           0.3333333333333333,
           10.4
          ],
          [
           0.3333333333333333,
           9.833333333333334
          ],
          [
           0.0833333333333333,
           10.454545454545457
          ],
          [
           0.5,
           10.875
          ],
          [
           0.3333333333333333,
           10.166666666666666
          ],
          [
           0,
           8
          ]
         ],
         "hovertemplate": "<b>%{hovertext}</b><br><br>GeoCategory=Shanghai (state)<br>Year=%{x}<br>Count=%{y}<br>Colour=%{customdata[0]}<br>Length=%{customdata[1]}<extra></extra>",
         "hovertext": [
          "Shanghai (state)",
          "Shanghai (state)",
          "Shanghai (state)",
          "Shanghai (state)",
          "Shanghai (state)",
          "Shanghai (state)",
          "Shanghai (state)",
          "Shanghai (state)",
          "Shanghai (state)",
          "Shanghai (state)",
          "Shanghai (state)",
          "Shanghai (state)",
          "Shanghai (state)",
          "Shanghai (state)",
          "Shanghai (state)",
          "Shanghai (state)",
          "Shanghai (state)"
         ],
         "legendgroup": "Shanghai (state)",
         "line": {
          "color": "#68d162",
          "dash": "solid"
         },
         "marker": {
          "symbol": "circle"
         },
         "mode": "lines",
         "name": "Shanghai (state)",
         "orientation": "v",
         "showlegend": true,
         "type": "scatter",
         "x": [
          1950,
          1951,
          1952,
          1953,
          1954,
          1955,
          1956,
          1957,
          1958,
          1959,
          1960,
          1961,
          1962,
          1963,
          1964,
          1965,
          1966
         ],
         "xaxis": "x",
         "y": [
          2,
          6,
          1,
          1,
          10,
          8,
          13,
          15,
          22,
          20,
          9,
          6,
          6,
          12,
          8,
          6,
          1
         ],
         "yaxis": "y"
        },
        {
         "customdata": [
          [
           0,
           7.6
          ],
          [
           0,
           10.666666666666666
          ],
          [
           0,
           11.5
          ],
          [
           0,
           9
          ],
          [
           0,
           8.5
          ],
          [
           0,
           4
          ],
          [
           0.2,
           7.8
          ],
          [
           0.1428571428571428,
           7.285714285714286
          ],
          [
           0.1666666666666666,
           9.38888888888889
          ],
          [
           0.6470588235294118,
           10.235294117647058
          ],
          [
           0.2666666666666666,
           9.8
          ],
          [
           0.5,
           10.666666666666666
          ],
          [
           0.3076923076923077,
           9.692307692307692
          ],
          [
           0.1111111111111111,
           10.555555555555555
          ],
          [
           0.4545454545454545,
           9.727272727272728
          ],
          [
           0,
           10.9
          ],
          [
           0.2,
           10
          ]
         ],
         "hovertemplate": "<b>%{hovertext}</b><br><br>GeoCategory=Beijing<br>Year=%{x}<br>Count=%{y}<br>Colour=%{customdata[0]}<br>Length=%{customdata[1]}<extra></extra>",
         "hovertext": [
          "Beijing",
          "Beijing",
          "Beijing",
          "Beijing",
          "Beijing",
          "Beijing",
          "Beijing",
          "Beijing",
          "Beijing",
          "Beijing",
          "Beijing",
          "Beijing",
          "Beijing",
          "Beijing",
          "Beijing",
          "Beijing",
          "Beijing"
         ],
         "legendgroup": "Beijing",
         "line": {
          "color": "#D063fb",
          "dash": "solid"
         },
         "marker": {
          "symbol": "circle"
         },
         "mode": "lines",
         "name": "Beijing",
         "orientation": "v",
         "showlegend": true,
         "type": "scatter",
         "x": [
          1950,
          1951,
          1952,
          1953,
          1954,
          1955,
          1956,
          1957,
          1958,
          1959,
          1960,
          1961,
          1962,
          1963,
          1964,
          1965,
          1966
         ],
         "xaxis": "x",
         "y": [
          5,
          3,
          2,
          2,
          2,
          1,
          5,
          7,
          18,
          17,
          15,
          6,
          13,
          9,
          11,
          10,
          5
         ],
         "yaxis": "y"
        },
        {
         "customdata": [
          [
           0,
           5
          ],
          [
           0,
           7
          ],
          [
           0,
           9
          ],
          [
           0,
           13
          ],
          [
           0,
           9.5
          ],
          [
           0.5,
           11
          ],
          [
           0,
           13
          ]
         ],
         "hovertemplate": "<b>%{hovertext}</b><br><br>GeoCategory=Canton<br>Year=%{x}<br>Count=%{y}<br>Colour=%{customdata[0]}<br>Length=%{customdata[1]}<extra></extra>",
         "hovertext": [
          "Canton",
          "Canton",
          "Canton",
          "Canton",
          "Canton",
          "Canton",
          "Canton"
         ],
         "legendgroup": "Canton",
         "line": {
          "color": "#Fb94cc",
          "dash": "solid"
         },
         "marker": {
          "symbol": "circle"
         },
         "mode": "lines",
         "name": "Canton",
         "orientation": "v",
         "showlegend": true,
         "type": "scatter",
         "x": [
          1958,
          1959,
          1960,
          1962,
          1963,
          1964,
          1966
         ],
         "xaxis": "x",
         "y": [
          1,
          1,
          3,
          1,
          2,
          2,
          1
         ],
         "yaxis": "y"
        },
        {
         "customdata": [
          [
           0,
           7.5
          ],
          [
           0.2,
           9
          ],
          [
           0,
           10
          ],
          [
           0,
           9.5
          ],
          [
           0,
           12
          ],
          [
           1,
           12
          ],
          [
           0,
           10
          ],
          [
           0,
           4
          ]
         ],
         "hovertemplate": "<b>%{hovertext}</b><br><br>GeoCategory=Xi'an<br>Year=%{x}<br>Count=%{y}<br>Colour=%{customdata[0]}<br>Length=%{customdata[1]}<extra></extra>",
         "hovertext": [
          "Xi'an",
          "Xi'an",
          "Xi'an",
          "Xi'an",
          "Xi'an",
          "Xi'an",
          "Xi'an",
          "Xi'an"
         ],
         "legendgroup": "Xi'an",
         "line": {
          "color": "#Fb9f68",
          "dash": "solid"
         },
         "marker": {
          "symbol": "circle"
         },
         "mode": "lines",
         "name": "Xi'an",
         "orientation": "v",
         "showlegend": true,
         "type": "scatter",
         "x": [
          1959,
          1960,
          1961,
          1962,
          1963,
          1964,
          1965,
          1966
         ],
         "xaxis": "x",
         "y": [
          2,
          5,
          2,
          2,
          1,
          1,
          1,
          1
         ],
         "yaxis": "y"
        }
       ],
       "layout": {
        "legend": {
         "title": {
          "text": "GeoCategory"
         },
         "tracegroupgap": 0
        },
        "template": {
         "data": {
          "bar": [
           {
            "error_x": {
             "color": "#2a3f5f"
            },
            "error_y": {
             "color": "#2a3f5f"
            },
            "marker": {
             "line": {
              "color": "#E5ECF6",
              "width": 0.5
             },
             "pattern": {
              "fillmode": "overlay",
              "size": 10,
              "solidity": 0.2
             }
            },
            "type": "bar"
           }
          ],
          "barpolar": [
           {
            "marker": {
             "line": {
              "color": "#E5ECF6",
              "width": 0.5
             },
             "pattern": {
              "fillmode": "overlay",
              "size": 10,
              "solidity": 0.2
             }
            },
            "type": "barpolar"
           }
          ],
          "carpet": [
           {
            "aaxis": {
             "endlinecolor": "#2a3f5f",
             "gridcolor": "white",
             "linecolor": "white",
             "minorgridcolor": "white",
             "startlinecolor": "#2a3f5f"
            },
            "baxis": {
             "endlinecolor": "#2a3f5f",
             "gridcolor": "white",
             "linecolor": "white",
             "minorgridcolor": "white",
             "startlinecolor": "#2a3f5f"
            },
            "type": "carpet"
           }
          ],
          "choropleth": [
           {
            "colorbar": {
             "outlinewidth": 0,
             "ticks": ""
            },
            "type": "choropleth"
           }
          ],
          "contour": [
           {
            "colorbar": {
             "outlinewidth": 0,
             "ticks": ""
            },
            "colorscale": [
             [
              0,
              "#0d0887"
             ],
             [
              0.1111111111111111,
              "#46039f"
             ],
             [
              0.2222222222222222,
              "#7201a8"
             ],
             [
              0.3333333333333333,
              "#9c179e"
             ],
             [
              0.4444444444444444,
              "#bd3786"
             ],
             [
              0.5555555555555556,
              "#d8576b"
             ],
             [
              0.6666666666666666,
              "#ed7953"
             ],
             [
              0.7777777777777778,
              "#fb9f3a"
             ],
             [
              0.8888888888888888,
              "#fdca26"
             ],
             [
              1,
              "#f0f921"
             ]
            ],
            "type": "contour"
           }
          ],
          "contourcarpet": [
           {
            "colorbar": {
             "outlinewidth": 0,
             "ticks": ""
            },
            "type": "contourcarpet"
           }
          ],
          "heatmap": [
           {
            "colorbar": {
             "outlinewidth": 0,
             "ticks": ""
            },
            "colorscale": [
             [
              0,
              "#0d0887"
             ],
             [
              0.1111111111111111,
              "#46039f"
             ],
             [
              0.2222222222222222,
              "#7201a8"
             ],
             [
              0.3333333333333333,
              "#9c179e"
             ],
             [
              0.4444444444444444,
              "#bd3786"
             ],
             [
              0.5555555555555556,
              "#d8576b"
             ],
             [
              0.6666666666666666,
              "#ed7953"
             ],
             [
              0.7777777777777778,
              "#fb9f3a"
             ],
             [
              0.8888888888888888,
              "#fdca26"
             ],
             [
              1,
              "#f0f921"
             ]
            ],
            "type": "heatmap"
           }
          ],
          "heatmapgl": [
           {
            "colorbar": {
             "outlinewidth": 0,
             "ticks": ""
            },
            "colorscale": [
             [
              0,
              "#0d0887"
             ],
             [
              0.1111111111111111,
              "#46039f"
             ],
             [
              0.2222222222222222,
              "#7201a8"
             ],
             [
              0.3333333333333333,
              "#9c179e"
             ],
             [
              0.4444444444444444,
              "#bd3786"
             ],
             [
              0.5555555555555556,
              "#d8576b"
             ],
             [
              0.6666666666666666,
              "#ed7953"
             ],
             [
              0.7777777777777778,
              "#fb9f3a"
             ],
             [
              0.8888888888888888,
              "#fdca26"
             ],
             [
              1,
              "#f0f921"
             ]
            ],
            "type": "heatmapgl"
           }
          ],
          "histogram": [
           {
            "marker": {
             "pattern": {
              "fillmode": "overlay",
              "size": 10,
              "solidity": 0.2
             }
            },
            "type": "histogram"
           }
          ],
          "histogram2d": [
           {
            "colorbar": {
             "outlinewidth": 0,
             "ticks": ""
            },
            "colorscale": [
             [
              0,
              "#0d0887"
             ],
             [
              0.1111111111111111,
              "#46039f"
             ],
             [
              0.2222222222222222,
              "#7201a8"
             ],
             [
              0.3333333333333333,
              "#9c179e"
             ],
             [
              0.4444444444444444,
              "#bd3786"
             ],
             [
              0.5555555555555556,
              "#d8576b"
             ],
             [
              0.6666666666666666,
              "#ed7953"
             ],
             [
              0.7777777777777778,
              "#fb9f3a"
             ],
             [
              0.8888888888888888,
              "#fdca26"
             ],
             [
              1,
              "#f0f921"
             ]
            ],
            "type": "histogram2d"
           }
          ],
          "histogram2dcontour": [
           {
            "colorbar": {
             "outlinewidth": 0,
             "ticks": ""
            },
            "colorscale": [
             [
              0,
              "#0d0887"
             ],
             [
              0.1111111111111111,
              "#46039f"
             ],
             [
              0.2222222222222222,
              "#7201a8"
             ],
             [
              0.3333333333333333,
              "#9c179e"
             ],
             [
              0.4444444444444444,
              "#bd3786"
             ],
             [
              0.5555555555555556,
              "#d8576b"
             ],
             [
              0.6666666666666666,
              "#ed7953"
             ],
             [
              0.7777777777777778,
              "#fb9f3a"
             ],
             [
              0.8888888888888888,
              "#fdca26"
             ],
             [
              1,
              "#f0f921"
             ]
            ],
            "type": "histogram2dcontour"
           }
          ],
          "mesh3d": [
           {
            "colorbar": {
             "outlinewidth": 0,
             "ticks": ""
            },
            "type": "mesh3d"
           }
          ],
          "parcoords": [
           {
            "line": {
             "colorbar": {
              "outlinewidth": 0,
              "ticks": ""
             }
            },
            "type": "parcoords"
           }
          ],
          "pie": [
           {
            "automargin": true,
            "type": "pie"
           }
          ],
          "scatter": [
           {
            "fillpattern": {
             "fillmode": "overlay",
             "size": 10,
             "solidity": 0.2
            },
            "type": "scatter"
           }
          ],
          "scatter3d": [
           {
            "line": {
             "colorbar": {
              "outlinewidth": 0,
              "ticks": ""
             }
            },
            "marker": {
             "colorbar": {
              "outlinewidth": 0,
              "ticks": ""
             }
            },
            "type": "scatter3d"
           }
          ],
          "scattercarpet": [
           {
            "marker": {
             "colorbar": {
              "outlinewidth": 0,
              "ticks": ""
             }
            },
            "type": "scattercarpet"
           }
          ],
          "scattergeo": [
           {
            "marker": {
             "colorbar": {
              "outlinewidth": 0,
              "ticks": ""
             }
            },
            "type": "scattergeo"
           }
          ],
          "scattergl": [
           {
            "marker": {
             "colorbar": {
              "outlinewidth": 0,
              "ticks": ""
             }
            },
            "type": "scattergl"
           }
          ],
          "scattermapbox": [
           {
            "marker": {
             "colorbar": {
              "outlinewidth": 0,
              "ticks": ""
             }
            },
            "type": "scattermapbox"
           }
          ],
          "scatterpolar": [
           {
            "marker": {
             "colorbar": {
              "outlinewidth": 0,
              "ticks": ""
             }
            },
            "type": "scatterpolar"
           }
          ],
          "scatterpolargl": [
           {
            "marker": {
             "colorbar": {
              "outlinewidth": 0,
              "ticks": ""
             }
            },
            "type": "scatterpolargl"
           }
          ],
          "scatterternary": [
           {
            "marker": {
             "colorbar": {
              "outlinewidth": 0,
              "ticks": ""
             }
            },
            "type": "scatterternary"
           }
          ],
          "surface": [
           {
            "colorbar": {
             "outlinewidth": 0,
             "ticks": ""
            },
            "colorscale": [
             [
              0,
              "#0d0887"
             ],
             [
              0.1111111111111111,
              "#46039f"
             ],
             [
              0.2222222222222222,
              "#7201a8"
             ],
             [
              0.3333333333333333,
              "#9c179e"
             ],
             [
              0.4444444444444444,
              "#bd3786"
             ],
             [
              0.5555555555555556,
              "#d8576b"
             ],
             [
              0.6666666666666666,
              "#ed7953"
             ],
             [
              0.7777777777777778,
              "#fb9f3a"
             ],
             [
              0.8888888888888888,
              "#fdca26"
             ],
             [
              1,
              "#f0f921"
             ]
            ],
            "type": "surface"
           }
          ],
          "table": [
           {
            "cells": {
             "fill": {
              "color": "#EBF0F8"
             },
             "line": {
              "color": "white"
             }
            },
            "header": {
             "fill": {
              "color": "#C8D4E3"
             },
             "line": {
              "color": "white"
             }
            },
            "type": "table"
           }
          ]
         },
         "layout": {
          "annotationdefaults": {
           "arrowcolor": "#2a3f5f",
           "arrowhead": 0,
           "arrowwidth": 1
          },
          "autotypenumbers": "strict",
          "coloraxis": {
           "colorbar": {
            "outlinewidth": 0,
            "ticks": ""
           }
          },
          "colorscale": {
           "diverging": [
            [
             0,
             "#8e0152"
            ],
            [
             0.1,
             "#c51b7d"
            ],
            [
             0.2,
             "#de77ae"
            ],
            [
             0.3,
             "#f1b6da"
            ],
            [
             0.4,
             "#fde0ef"
            ],
            [
             0.5,
             "#f7f7f7"
            ],
            [
             0.6,
             "#e6f5d0"
            ],
            [
             0.7,
             "#b8e186"
            ],
            [
             0.8,
             "#7fbc41"
            ],
            [
             0.9,
             "#4d9221"
            ],
            [
             1,
             "#276419"
            ]
           ],
           "sequential": [
            [
             0,
             "#0d0887"
            ],
            [
             0.1111111111111111,
             "#46039f"
            ],
            [
             0.2222222222222222,
             "#7201a8"
            ],
            [
             0.3333333333333333,
             "#9c179e"
            ],
            [
             0.4444444444444444,
             "#bd3786"
            ],
            [
             0.5555555555555556,
             "#d8576b"
            ],
            [
             0.6666666666666666,
             "#ed7953"
            ],
            [
             0.7777777777777778,
             "#fb9f3a"
            ],
            [
             0.8888888888888888,
             "#fdca26"
            ],
            [
             1,
             "#f0f921"
            ]
           ],
           "sequentialminus": [
            [
             0,
             "#0d0887"
            ],
            [
             0.1111111111111111,
             "#46039f"
            ],
            [
             0.2222222222222222,
             "#7201a8"
            ],
            [
             0.3333333333333333,
             "#9c179e"
            ],
            [
             0.4444444444444444,
             "#bd3786"
            ],
            [
             0.5555555555555556,
             "#d8576b"
            ],
            [
             0.6666666666666666,
             "#ed7953"
            ],
            [
             0.7777777777777778,
             "#fb9f3a"
            ],
            [
             0.8888888888888888,
             "#fdca26"
            ],
            [
             1,
             "#f0f921"
            ]
           ]
          },
          "colorway": [
           "#636efa",
           "#EF553B",
           "#00cc96",
           "#ab63fa",
           "#FFA15A",
           "#19d3f3",
           "#FF6692",
           "#B6E880",
           "#FF97FF",
           "#FECB52"
          ],
          "font": {
           "color": "#2a3f5f"
          },
          "geo": {
           "bgcolor": "white",
           "lakecolor": "white",
           "landcolor": "#E5ECF6",
           "showlakes": true,
           "showland": true,
           "subunitcolor": "white"
          },
          "hoverlabel": {
           "align": "left"
          },
          "hovermode": "closest",
          "mapbox": {
           "style": "light"
          },
          "paper_bgcolor": "white",
          "plot_bgcolor": "#E5ECF6",
          "polar": {
           "angularaxis": {
            "gridcolor": "white",
            "linecolor": "white",
            "ticks": ""
           },
           "bgcolor": "#E5ECF6",
           "radialaxis": {
            "gridcolor": "white",
            "linecolor": "white",
            "ticks": ""
           }
          },
          "scene": {
           "xaxis": {
            "backgroundcolor": "#E5ECF6",
            "gridcolor": "white",
            "gridwidth": 2,
            "linecolor": "white",
            "showbackground": true,
            "ticks": "",
            "zerolinecolor": "white"
           },
           "yaxis": {
            "backgroundcolor": "#E5ECF6",
            "gridcolor": "white",
            "gridwidth": 2,
            "linecolor": "white",
            "showbackground": true,
            "ticks": "",
            "zerolinecolor": "white"
           },
           "zaxis": {
            "backgroundcolor": "#E5ECF6",
            "gridcolor": "white",
            "gridwidth": 2,
            "linecolor": "white",
            "showbackground": true,
            "ticks": "",
            "zerolinecolor": "white"
           }
          },
          "shapedefaults": {
           "line": {
            "color": "#2a3f5f"
           }
          },
          "ternary": {
           "aaxis": {
            "gridcolor": "white",
            "linecolor": "white",
            "ticks": ""
           },
           "baxis": {
            "gridcolor": "white",
            "linecolor": "white",
            "ticks": ""
           },
           "bgcolor": "#E5ECF6",
           "caxis": {
            "gridcolor": "white",
            "linecolor": "white",
            "ticks": ""
           }
          },
          "title": {
           "x": 0.05
          },
          "xaxis": {
           "automargin": true,
           "gridcolor": "white",
           "linecolor": "white",
           "ticks": "",
           "title": {
            "standoff": 15
           },
           "zerolinecolor": "white",
           "zerolinewidth": 2
          },
          "yaxis": {
           "automargin": true,
           "gridcolor": "white",
           "linecolor": "white",
           "ticks": "",
           "title": {
            "standoff": 15
           },
           "zerolinecolor": "white",
           "zerolinewidth": 2
          }
         }
        },
        "title": {
         "text": "Counts of Feature Films by Year, 1949-1966"
        },
        "xaxis": {
         "anchor": "y",
         "domain": [
          0,
          1
         ],
         "title": {
          "text": "Year"
         }
        },
        "yaxis": {
         "anchor": "x",
         "domain": [
          0,
          1
         ],
         "title": {
          "text": "Count"
         }
        }
       }
      }
     },
     "metadata": {},
     "output_type": "display_data"
    }
   ],
   "source": [
    "tarpath = \"../statistics/studio_film_counts_by_year.csv\"\n",
    "if FEATURE_ONLY:\n",
    "\tif(CATEGORIZE_BY_GEO_CATEGORY):\n",
    "\t\ttarpath = \"../statistics/geocat_feature_counts_by_year.csv\"\n",
    "\telse:\n",
    "\t\ttarpath = \"../statistics/studio_feature_counts_by_year.csv\"\n",
    "else:\n",
    "\tif(CATEGORIZE_BY_GEO_CATEGORY):\n",
    "\t\ttarpath = \"../statistics/geocat_film_counts_by_year.csv\"\n",
    "\n",
    "grouping = \"GeoCategory\" if CATEGORIZE_BY_GEO_CATEGORY else \"Studio\"\n",
    "tiile = \"{} of {} Films by Year, 1949-1966\".format(\"Average Length (in Reels)\" if ATTRIBUTE == \"Length\" else \"Percentage of Colour Films\" if ATTRIBUTE == \"Colour\" else \"Counts\",\n",
    "\t\t\t\t\t\t   \"Feature\" if FEATURE_ONLY else \"All\")\n",
    "\n",
    "df = pd.read_csv(tarpath)\n",
    "df = df.sort_values(by=\"Year\")\n",
    "\n",
    "# Display the data frame in Plotly scatter plot\n",
    "if not CATEGORIZE_BY_GEO_CATEGORY:\n",
    "\tfig = px.line(df, x=\"Year\", y=ATTRIBUTE, color=grouping, hover_name=grouping, hover_data=[\"Count\",\"Year\",\"Colour\",\"Length\"], title=tiile)\n",
    "else:\n",
    "\tfig = px.line(df, x=\"Year\", y=ATTRIBUTE, color=grouping, hover_name=grouping, hover_data=[\"Count\",\"Year\",\"Colour\",\"Length\"], title=tiile,\n",
    "\t    color_discrete_map={\n",
    "\t\t\t\t\t\t\"All\": \"#ff5250\",#red\n",
    "\t\t\t\t\t\t\"Shanghai (state)\": \"#68d162\",#green\n",
    "\t\t\t\t\t\t\"Shanghai (private)\" : \"#404840\",#green black\n",
    "\t\t\t\t\t\t\"Shanghai (roc)\" : \"#96fb96\",#light green\n",
    "\t\t\t\t\t\t\"Beijing\": \"#D063fb\",#hliotrope\n",
    "\t\t\t\t\t\t\"Northeast\": \"#72d2ed\",#sky blue\n",
    "\t\t\t\t\t\t\"Xi'an\": \"#Fb9f68\",#tan orange\n",
    "\t\t\t\t\t\t\"Canton\": \"#Fb94cc\",#lavender pink\n",
    "\t\t\t\t\t\t\"Xinjiang\": \"#C83b3b\",#dark red\n",
    "\t\t\t\t\t\t\"Sichuan\" : \"#2c6398\",#tropaz blue\n",
    "\t\t\t\t\t\t\"Hubei\": \"#A3a3a3\",\n",
    "\t\t\t\t\t\t\"Anhui\": \"#A3a3a3\",\n",
    "\t\t\t\t\t\t\"Shandong\": \"#A3a3a3\",\n",
    "\t\t\t\t\t\t\"Tianjin\": \"#A3a3a3\",\n",
    "\t\t\t\t\t\t\"Zhejiang\": \"#A3a3a3\"\n",
    "\t\t\t\t\t})\n",
    "fig.show()"
   ]
  }
 ],
 "metadata": {
  "kernelspec": {
   "display_name": "Python 3",
   "language": "python",
   "name": "python3"
  },
  "language_info": {
   "codemirror_mode": {
    "name": "ipython",
    "version": 3
   },
   "file_extension": ".py",
   "mimetype": "text/x-python",
   "name": "python",
   "nbconvert_exporter": "python",
   "pygments_lexer": "ipython3",
   "version": "3.9.6"
  },
  "orig_nbformat": 4
 },
 "nbformat": 4,
 "nbformat_minor": 2
}
