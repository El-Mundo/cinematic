{
 "cells": [
  {
   "cell_type": "code",
   "execution_count": 1,
   "metadata": {},
   "outputs": [],
   "source": [
    "import plotly.express as px\n",
    "import pandas as pd"
   ]
  },
  {
   "cell_type": "code",
   "execution_count": 2,
   "metadata": {},
   "outputs": [],
   "source": [
    "#px.set_mapbox_access_token(open(\"./mapbox_token.txt\").read())\n",
    "df = pd.read_csv(\"../source/people_plots.csv\")"
   ]
  },
  {
   "cell_type": "code",
   "execution_count": 3,
   "metadata": {},
   "outputs": [
    {
     "ename": "ValueError",
     "evalue": "Value of 'color' is not the name of a column in 'data_frame'. Expected one of ['network_id', 'name', 'debut_year', 'last_appearance', 'from_private', 'debut_region (keep this super long so that the layout will not be disturbed)', 'year', 'geo_category', 'latitude', 'longitude'] but received: debut_region",
     "output_type": "error",
     "traceback": [
      "\u001b[0;31m---------------------------------------------------------------------------\u001b[0m",
      "\u001b[0;31mValueError\u001b[0m                                Traceback (most recent call last)",
      "Cell \u001b[0;32mIn[3], line 1\u001b[0m\n\u001b[0;32m----> 1\u001b[0m fig \u001b[39m=\u001b[39m px\u001b[39m.\u001b[39;49mscatter_mapbox(df, lat\u001b[39m=\u001b[39;49m\u001b[39m\"\u001b[39;49m\u001b[39mlatitude\u001b[39;49m\u001b[39m\"\u001b[39;49m, lon\u001b[39m=\u001b[39;49m\u001b[39m\"\u001b[39;49m\u001b[39mlongitude\u001b[39;49m\u001b[39m\"\u001b[39;49m,\n\u001b[1;32m      2\u001b[0m                     color_continuous_scale\u001b[39m=\u001b[39;49m\u001b[39m\"\u001b[39;49m\u001b[39mmatter\u001b[39;49m\u001b[39m\"\u001b[39;49m,\n\u001b[1;32m      3\u001b[0m             \t\tzoom\u001b[39m=\u001b[39;49m\u001b[39m3\u001b[39;49m, color\u001b[39m=\u001b[39;49m\u001b[39m\"\u001b[39;49m\u001b[39mdebut_region\u001b[39;49m\u001b[39m\"\u001b[39;49m,\n\u001b[1;32m      4\u001b[0m                     color_discrete_map\u001b[39m=\u001b[39;49m{\n\u001b[1;32m      5\u001b[0m \t\t\t\t\t\t\u001b[39m\"\u001b[39;49m\u001b[39mShanghai (state)\u001b[39;49m\u001b[39m\"\u001b[39;49m: \u001b[39m\"\u001b[39;49m\u001b[39m#2596be\u001b[39;49m\u001b[39m\"\u001b[39;49m,\u001b[39m#green\u001b[39;49;00m\n\u001b[1;32m      6\u001b[0m                         \u001b[39m\"\u001b[39;49m\u001b[39mShanghai (private)\u001b[39;49m\u001b[39m\"\u001b[39;49m : \u001b[39m\"\u001b[39;49m\u001b[39m#404840\u001b[39;49m\u001b[39m\"\u001b[39;49m,\u001b[39m#green black\u001b[39;49;00m\n\u001b[1;32m      7\u001b[0m                         \u001b[39m\"\u001b[39;49m\u001b[39mShanghai (roc)\u001b[39;49m\u001b[39m\"\u001b[39;49m : \u001b[39m\"\u001b[39;49m\u001b[39m#96fb96\u001b[39;49m\u001b[39m\"\u001b[39;49m,\u001b[39m#light green\u001b[39;49;00m\n\u001b[1;32m      8\u001b[0m                         \u001b[39m\"\u001b[39;49m\u001b[39mShanghai (state) / Hong Kong\u001b[39;49m\u001b[39m\"\u001b[39;49m : \u001b[39m\"\u001b[39;49m\u001b[39m#2596be\u001b[39;49m\u001b[39m\"\u001b[39;49m, \u001b[39m#dark green\u001b[39;49;00m\n\u001b[1;32m      9\u001b[0m \t\t\t\t\t\t\u001b[39m\"\u001b[39;49m\u001b[39mBeijing\u001b[39;49m\u001b[39m\"\u001b[39;49m: \u001b[39m\"\u001b[39;49m\u001b[39m#D063fb\u001b[39;49m\u001b[39m\"\u001b[39;49m,\u001b[39m#hliotrope\u001b[39;49;00m\n\u001b[1;32m     10\u001b[0m                         \u001b[39m\"\u001b[39;49m\u001b[39mBeijing / Hong Kong\u001b[39;49m\u001b[39m\"\u001b[39;49m : \u001b[39m\"\u001b[39;49m\u001b[39m#F3c0f9\u001b[39;49m\u001b[39m\"\u001b[39;49m,\u001b[39m#light purple\u001b[39;49;00m\n\u001b[1;32m     11\u001b[0m \t\t\t\t\t\t\u001b[39m\"\u001b[39;49m\u001b[39mNortheast\u001b[39;49m\u001b[39m\"\u001b[39;49m: \u001b[39m\"\u001b[39;49m\u001b[39m#72d2ed\u001b[39;49m\u001b[39m\"\u001b[39;49m,\u001b[39m#sky blue\u001b[39;49;00m\n\u001b[1;32m     12\u001b[0m \t\t\t\t\t\t\u001b[39m\"\u001b[39;49m\u001b[39mXi\u001b[39;49m\u001b[39m'\u001b[39;49m\u001b[39man\u001b[39;49m\u001b[39m\"\u001b[39;49m: \u001b[39m\"\u001b[39;49m\u001b[39m#Fb9f68\u001b[39;49m\u001b[39m\"\u001b[39;49m,\u001b[39m#tan orange\u001b[39;49;00m\n\u001b[1;32m     13\u001b[0m \t\t\t\t\t\t\u001b[39m\"\u001b[39;49m\u001b[39mCanton\u001b[39;49m\u001b[39m\"\u001b[39;49m: \u001b[39m\"\u001b[39;49m\u001b[39m#Fb94cc\u001b[39;49m\u001b[39m\"\u001b[39;49m,\u001b[39m#lavender pink\u001b[39;49;00m\n\u001b[1;32m     14\u001b[0m                         \u001b[39m\"\u001b[39;49m\u001b[39mHong Kong / Canton\u001b[39;49m\u001b[39m\"\u001b[39;49m: \u001b[39m\"\u001b[39;49m\u001b[39m#F5aedc\u001b[39;49m\u001b[39m\"\u001b[39;49m,\u001b[39m#chantilly\u001b[39;49;00m\n\u001b[1;32m     15\u001b[0m                         \u001b[39m\"\u001b[39;49m\u001b[39mXinjiang\u001b[39;49m\u001b[39m\"\u001b[39;49m: \u001b[39m\"\u001b[39;49m\u001b[39m#C83b3b\u001b[39;49m\u001b[39m\"\u001b[39;49m,\u001b[39m#dark red\u001b[39;49;00m\n\u001b[1;32m     16\u001b[0m                         \u001b[39m\"\u001b[39;49m\u001b[39mSichuan\u001b[39;49m\u001b[39m\"\u001b[39;49m : \u001b[39m\"\u001b[39;49m\u001b[39m#2c6398\u001b[39;49m\u001b[39m\"\u001b[39;49m,\u001b[39m#tropaz blue\u001b[39;49;00m\n\u001b[1;32m     17\u001b[0m                         \u001b[39m\"\u001b[39;49m\u001b[39mShanghai (state) / Xinjiang\u001b[39;49m\u001b[39m\"\u001b[39;49m : \u001b[39m\"\u001b[39;49m\u001b[39m#A3a3a3\u001b[39;49m\u001b[39m\"\u001b[39;49m,\u001b[39m#below are silver grey\u001b[39;49;00m\n\u001b[1;32m     18\u001b[0m \t\t\t\t\t\t\u001b[39m\"\u001b[39;49m\u001b[39mHubei\u001b[39;49m\u001b[39m\"\u001b[39;49m: \u001b[39m\"\u001b[39;49m\u001b[39m#A3a3a3\u001b[39;49m\u001b[39m\"\u001b[39;49m,\n\u001b[1;32m     19\u001b[0m \t\t\t\t\t\t\u001b[39m\"\u001b[39;49m\u001b[39mAnhui\u001b[39;49m\u001b[39m\"\u001b[39;49m: \u001b[39m\"\u001b[39;49m\u001b[39m#A3a3a3\u001b[39;49m\u001b[39m\"\u001b[39;49m,\n\u001b[1;32m     20\u001b[0m \t\t\t\t\t\t\u001b[39m\"\u001b[39;49m\u001b[39mShandong\u001b[39;49m\u001b[39m\"\u001b[39;49m: \u001b[39m\"\u001b[39;49m\u001b[39m#A3a3a3\u001b[39;49m\u001b[39m\"\u001b[39;49m,\n\u001b[1;32m     21\u001b[0m \t\t\t\t\t\t\u001b[39m\"\u001b[39;49m\u001b[39mSoviet Union / Northeast\u001b[39;49m\u001b[39m\"\u001b[39;49m: \u001b[39m\"\u001b[39;49m\u001b[39m#A3a3a3\u001b[39;49m\u001b[39m\"\u001b[39;49m,\n\u001b[1;32m     22\u001b[0m \t\t\t\t\t\t\u001b[39m\"\u001b[39;49m\u001b[39mBeijing / Xi\u001b[39;49m\u001b[39m'\u001b[39;49m\u001b[39man\u001b[39;49m\u001b[39m\"\u001b[39;49m: \u001b[39m\"\u001b[39;49m\u001b[39m#A3a3a3\u001b[39;49m\u001b[39m\"\u001b[39;49m,\n\u001b[1;32m     23\u001b[0m \t\t\t\t\t\t\u001b[39m\"\u001b[39;49m\u001b[39mHong Kong / Northeast\u001b[39;49m\u001b[39m\"\u001b[39;49m: \u001b[39m\"\u001b[39;49m\u001b[39m#A3a3a3\u001b[39;49m\u001b[39m\"\u001b[39;49m,\n\u001b[1;32m     24\u001b[0m \t\t\t\t\t\t\u001b[39m\"\u001b[39;49m\u001b[39mInner Mongolia / Northeast\u001b[39;49m\u001b[39m\"\u001b[39;49m: \u001b[39m\"\u001b[39;49m\u001b[39m#A3a3a3\u001b[39;49m\u001b[39m\"\u001b[39;49m,\n\u001b[1;32m     25\u001b[0m \t\t\t\t\t\t\u001b[39m\"\u001b[39;49m\u001b[39mBeijing / Xinjiang\u001b[39;49m\u001b[39m\"\u001b[39;49m: \u001b[39m\"\u001b[39;49m\u001b[39m#A3a3a3\u001b[39;49m\u001b[39m\"\u001b[39;49m,\n\u001b[1;32m     26\u001b[0m \t\t\t\t\t\t\u001b[39m\"\u001b[39;49m\u001b[39mXi\u001b[39;49m\u001b[39m'\u001b[39;49m\u001b[39man / Qinghai\u001b[39;49m\u001b[39m\"\u001b[39;49m: \u001b[39m\"\u001b[39;49m\u001b[39m#A3a3a3\u001b[39;49m\u001b[39m\"\u001b[39;49m,\n\u001b[1;32m     27\u001b[0m \t\t\t\t\t\t\u001b[39m\"\u001b[39;49m\u001b[39mXi\u001b[39;49m\u001b[39m'\u001b[39;49m\u001b[39man / Northeast\u001b[39;49m\u001b[39m\"\u001b[39;49m: \u001b[39m\"\u001b[39;49m\u001b[39m#A3a3a3\u001b[39;49m\u001b[39m\"\u001b[39;49m,\n\u001b[1;32m     28\u001b[0m \t\t\t\t\t\t\u001b[39m\"\u001b[39;49m\u001b[39mBeijing / Hubei\u001b[39;49m\u001b[39m\"\u001b[39;49m: \u001b[39m\"\u001b[39;49m\u001b[39m#A3a3a3\u001b[39;49m\u001b[39m\"\u001b[39;49m,\n\u001b[1;32m     29\u001b[0m \t\t\t\t\t\t\u001b[39m\"\u001b[39;49m\u001b[39mBeijing / Anhui\u001b[39;49m\u001b[39m\"\u001b[39;49m: \u001b[39m\"\u001b[39;49m\u001b[39m#A3a3a3\u001b[39;49m\u001b[39m\"\u001b[39;49m,\n\u001b[1;32m     30\u001b[0m \t\t\t\t\t\t\u001b[39m\"\u001b[39;49m\u001b[39mBeijing / Western Europe\u001b[39;49m\u001b[39m\"\u001b[39;49m: \u001b[39m\"\u001b[39;49m\u001b[39m#A3a3a3\u001b[39;49m\u001b[39m\"\u001b[39;49m,\n\u001b[1;32m     31\u001b[0m \t\t\t\t\t\t\u001b[39m\"\u001b[39;49m\u001b[39mShanghai (state) / Anhui\u001b[39;49m\u001b[39m\"\u001b[39;49m: \u001b[39m\"\u001b[39;49m\u001b[39m#A3a3a3\u001b[39;49m\u001b[39m\"\u001b[39;49m,\n\u001b[1;32m     32\u001b[0m \t\t\t\t\t\t\u001b[39m\"\u001b[39;49m\u001b[39mGansu / Northeast\u001b[39;49m\u001b[39m\"\u001b[39;49m: \u001b[39m\"\u001b[39;49m\u001b[39m#A3a3a3\u001b[39;49m\u001b[39m\"\u001b[39;49m,\n\u001b[1;32m     33\u001b[0m \t\t\t\t\t\t\u001b[39m\"\u001b[39;49m\u001b[39mShanghai (state) / Canton\u001b[39;49m\u001b[39m\"\u001b[39;49m: \u001b[39m\"\u001b[39;49m\u001b[39m#A3a3a3\u001b[39;49m\u001b[39m\"\u001b[39;49m,\n\u001b[1;32m     34\u001b[0m \t\t\t\t\t\t\u001b[39m\"\u001b[39;49m\u001b[39mShanghai (state) / Hunan\u001b[39;49m\u001b[39m\"\u001b[39;49m: \u001b[39m\"\u001b[39;49m\u001b[39m#A3a3a3\u001b[39;49m\u001b[39m\"\u001b[39;49m,\n\u001b[1;32m     35\u001b[0m \t\t\t\t\t\t\u001b[39m\"\u001b[39;49m\u001b[39mTianjin\u001b[39;49m\u001b[39m\"\u001b[39;49m: \u001b[39m\"\u001b[39;49m\u001b[39m#A3a3a3\u001b[39;49m\u001b[39m\"\u001b[39;49m,\n\u001b[1;32m     36\u001b[0m \t\t\t\t\t\t\u001b[39m\"\u001b[39;49m\u001b[39mBeijing / Shanghai (state)\u001b[39;49m\u001b[39m\"\u001b[39;49m: \u001b[39m\"\u001b[39;49m\u001b[39m#A3a3a3\u001b[39;49m\u001b[39m\"\u001b[39;49m,\n\u001b[1;32m     37\u001b[0m \t\t\t\t\t\t\u001b[39m\"\u001b[39;49m\u001b[39mZhejiang\u001b[39;49m\u001b[39m\"\u001b[39;49m: \u001b[39m\"\u001b[39;49m\u001b[39m#A3a3a3\u001b[39;49m\u001b[39m\"\u001b[39;49m,\n\u001b[1;32m     38\u001b[0m \t\t\t\t\t\t\u001b[39m\"\u001b[39;49m\u001b[39mShanghai (roc) / Shanghai (private)\u001b[39;49m\u001b[39m\"\u001b[39;49m: \u001b[39m\"\u001b[39;49m\u001b[39m#A3a3a3\u001b[39;49m\u001b[39m\"\u001b[39;49m,\n\u001b[1;32m     39\u001b[0m \t\t\t\t\t\t\u001b[39m\"\u001b[39;49m\u001b[39mSichuan / Northeast\u001b[39;49m\u001b[39m\"\u001b[39;49m: \u001b[39m\"\u001b[39;49m\u001b[39m#A3a3a3\u001b[39;49m\u001b[39m\"\u001b[39;49m,\n\u001b[1;32m     40\u001b[0m \t\t\t\t\t\t\u001b[39m\"\u001b[39;49m\u001b[39mShanghai (state) / Jiangsu\u001b[39;49m\u001b[39m\"\u001b[39;49m: \u001b[39m\"\u001b[39;49m\u001b[39m#A3a3a3\u001b[39;49m\u001b[39m\"\u001b[39;49m,\n\u001b[1;32m     41\u001b[0m \t\t\t\t\t\t\u001b[39m\"\u001b[39;49m\u001b[39mBeijing / Northeast\u001b[39;49m\u001b[39m\"\u001b[39;49m: \u001b[39m\"\u001b[39;49m\u001b[39m#A3a3a3\u001b[39;49m\u001b[39m\"\u001b[39;49m,\n\u001b[1;32m     42\u001b[0m \t\t\t\t\t\t\u001b[39m\"\u001b[39;49m\u001b[39mBeijing / Tianjin\u001b[39;49m\u001b[39m\"\u001b[39;49m: \u001b[39m\"\u001b[39;49m\u001b[39m#A3a3a3\u001b[39;49m\u001b[39m\"\u001b[39;49m,\n\u001b[1;32m     43\u001b[0m \t\t\t\t\t\t\u001b[39m\"\u001b[39;49m\u001b[39mShanghai (state) / Shanghai (private)\u001b[39;49m\u001b[39m\"\u001b[39;49m: \u001b[39m\"\u001b[39;49m\u001b[39m#A3a3a3\u001b[39;49m\u001b[39m\"\u001b[39;49m,\n\u001b[1;32m     44\u001b[0m \t\t\t\t\t\t\u001b[39m\"\u001b[39;49m\u001b[39mShanghai (state) / Northeast\u001b[39;49m\u001b[39m\"\u001b[39;49m: \u001b[39m\"\u001b[39;49m\u001b[39m#A3a3a3\u001b[39;49m\u001b[39m\"\u001b[39;49m,\n\u001b[1;32m     45\u001b[0m \t\t\t\t\t\t\u001b[39m\"\u001b[39;49m\u001b[39mShanghai (state) / Xi\u001b[39;49m\u001b[39m'\u001b[39;49m\u001b[39man\u001b[39;49m\u001b[39m\"\u001b[39;49m: \u001b[39m\"\u001b[39;49m\u001b[39m#A3a3a3\u001b[39;49m\u001b[39m\"\u001b[39;49m,\n\u001b[1;32m     46\u001b[0m \t\t\t\t\t\t\u001b[39m\"\u001b[39;49m\u001b[39mNortheast / Tianjin\u001b[39;49m\u001b[39m\"\u001b[39;49m: \u001b[39m\"\u001b[39;49m\u001b[39m#A3a3a3\u001b[39;49m\u001b[39m\"\u001b[39;49m,\n\u001b[1;32m     47\u001b[0m \t\t\t\t\t\t\u001b[39m\"\u001b[39;49m\u001b[39mCanton / Northeast\u001b[39;49m\u001b[39m\"\u001b[39;49m: \u001b[39m\"\u001b[39;49m\u001b[39m#A3a3a3\u001b[39;49m\u001b[39m\"\u001b[39;49m,\n\u001b[1;32m     48\u001b[0m \t\t\t\t\t\t\u001b[39m\"\u001b[39;49m\u001b[39mBeijing / Shanghai (private) / Northeast\u001b[39;49m\u001b[39m\"\u001b[39;49m: \u001b[39m\"\u001b[39;49m\u001b[39m#A3a3a3\u001b[39;49m\u001b[39m\"\u001b[39;49m,\n\u001b[1;32m     49\u001b[0m \t\t\t\t\t\t\u001b[39m\"\u001b[39;49m\u001b[39mBeijing / Sichuan\u001b[39;49m\u001b[39m\"\u001b[39;49m: \u001b[39m\"\u001b[39;49m\u001b[39m#A3a3a3\u001b[39;49m\u001b[39m\"\u001b[39;49m,\n\u001b[1;32m     50\u001b[0m \t\t\t\t\t\t\u001b[39m\"\u001b[39;49m\u001b[39mShanghai (state) / Shandong\u001b[39;49m\u001b[39m\"\u001b[39;49m: \u001b[39m\"\u001b[39;49m\u001b[39m#A3a3a3\u001b[39;49m\u001b[39m\"\u001b[39;49m,\n\u001b[1;32m     51\u001b[0m \t\t\t\t\t\t\u001b[39m\"\u001b[39;49m\u001b[39mBeijing / Shanghai (state) / Anhui\u001b[39;49m\u001b[39m\"\u001b[39;49m: \u001b[39m\"\u001b[39;49m\u001b[39m#A3a3a3\u001b[39;49m\u001b[39m\"\u001b[39;49m,\n\u001b[1;32m     52\u001b[0m \t\t\t\t\t\t\u001b[39m\"\u001b[39;49m\u001b[39mBeijing / Shanghai (state) / Northeast\u001b[39;49m\u001b[39m\"\u001b[39;49m: \u001b[39m\"\u001b[39;49m\u001b[39m#A3a3a3\u001b[39;49m\u001b[39m\"\u001b[39;49m\n\u001b[1;32m     53\u001b[0m \t\t\t\t\t},\n\u001b[1;32m     54\u001b[0m                     animation_frame\u001b[39m=\u001b[39;49m\u001b[39m\"\u001b[39;49m\u001b[39myear\u001b[39;49m\u001b[39m\"\u001b[39;49m, animation_group\u001b[39m=\u001b[39;49m\u001b[39m\"\u001b[39;49m\u001b[39mnetwork_id\u001b[39;49m\u001b[39m\"\u001b[39;49m,\n\u001b[1;32m     55\u001b[0m                     mapbox_style\u001b[39m=\u001b[39;49m\u001b[39m\"\u001b[39;49m\u001b[39mmapbox://styles/el-mundo/clgse9vm7001x01p6hrli21dq\u001b[39;49m\u001b[39m\"\u001b[39;49m)\n\u001b[1;32m     56\u001b[0m fig\u001b[39m.\u001b[39mupdate_traces(cluster\u001b[39m=\u001b[39m\u001b[39mdict\u001b[39m(enabled\u001b[39m=\u001b[39m\u001b[39mTrue\u001b[39;00m))\n\u001b[1;32m     57\u001b[0m fig\u001b[39m.\u001b[39mshow()\n",
      "File \u001b[0;32m~/Library/Python/3.9/lib/python/site-packages/plotly/express/_chart_types.py:1247\u001b[0m, in \u001b[0;36mscatter_mapbox\u001b[0;34m(data_frame, lat, lon, color, text, hover_name, hover_data, custom_data, size, animation_frame, animation_group, category_orders, labels, color_discrete_sequence, color_discrete_map, color_continuous_scale, range_color, color_continuous_midpoint, opacity, size_max, zoom, center, mapbox_style, title, template, width, height)\u001b[0m\n\u001b[1;32m   1214\u001b[0m \u001b[39mdef\u001b[39;00m \u001b[39mscatter_mapbox\u001b[39m(\n\u001b[1;32m   1215\u001b[0m     data_frame\u001b[39m=\u001b[39m\u001b[39mNone\u001b[39;00m,\n\u001b[1;32m   1216\u001b[0m     lat\u001b[39m=\u001b[39m\u001b[39mNone\u001b[39;00m,\n\u001b[0;32m   (...)\u001b[0m\n\u001b[1;32m   1241\u001b[0m     height\u001b[39m=\u001b[39m\u001b[39mNone\u001b[39;00m,\n\u001b[1;32m   1242\u001b[0m ) \u001b[39m-\u001b[39m\u001b[39m>\u001b[39m go\u001b[39m.\u001b[39mFigure:\n\u001b[1;32m   1243\u001b[0m \u001b[39m    \u001b[39m\u001b[39m\"\"\"\u001b[39;00m\n\u001b[1;32m   1244\u001b[0m \u001b[39m    In a Mapbox scatter plot, each row of `data_frame` is represented by a\u001b[39;00m\n\u001b[1;32m   1245\u001b[0m \u001b[39m    symbol mark on a Mapbox map.\u001b[39;00m\n\u001b[1;32m   1246\u001b[0m \u001b[39m    \"\"\"\u001b[39;00m\n\u001b[0;32m-> 1247\u001b[0m     \u001b[39mreturn\u001b[39;00m make_figure(args\u001b[39m=\u001b[39;49m\u001b[39mlocals\u001b[39;49m(), constructor\u001b[39m=\u001b[39;49mgo\u001b[39m.\u001b[39;49mScattermapbox)\n",
      "File \u001b[0;32m~/Library/Python/3.9/lib/python/site-packages/plotly/express/_core.py:1996\u001b[0m, in \u001b[0;36mmake_figure\u001b[0;34m(args, constructor, trace_patch, layout_patch)\u001b[0m\n\u001b[1;32m   1993\u001b[0m layout_patch \u001b[39m=\u001b[39m layout_patch \u001b[39mor\u001b[39;00m {}\n\u001b[1;32m   1994\u001b[0m apply_default_cascade(args)\n\u001b[0;32m-> 1996\u001b[0m args \u001b[39m=\u001b[39m build_dataframe(args, constructor)\n\u001b[1;32m   1997\u001b[0m \u001b[39mif\u001b[39;00m constructor \u001b[39min\u001b[39;00m [go\u001b[39m.\u001b[39mTreemap, go\u001b[39m.\u001b[39mSunburst, go\u001b[39m.\u001b[39mIcicle] \u001b[39mand\u001b[39;00m args[\u001b[39m\"\u001b[39m\u001b[39mpath\u001b[39m\u001b[39m\"\u001b[39m] \u001b[39mis\u001b[39;00m \u001b[39mnot\u001b[39;00m \u001b[39mNone\u001b[39;00m:\n\u001b[1;32m   1998\u001b[0m     args \u001b[39m=\u001b[39m process_dataframe_hierarchy(args)\n",
      "File \u001b[0;32m~/Library/Python/3.9/lib/python/site-packages/plotly/express/_core.py:1409\u001b[0m, in \u001b[0;36mbuild_dataframe\u001b[0;34m(args, constructor)\u001b[0m\n\u001b[1;32m   1406\u001b[0m     args[\u001b[39m\"\u001b[39m\u001b[39mcolor\u001b[39m\u001b[39m\"\u001b[39m] \u001b[39m=\u001b[39m \u001b[39mNone\u001b[39;00m\n\u001b[1;32m   1407\u001b[0m \u001b[39m# now that things have been prepped, we do the systematic rewriting of `args`\u001b[39;00m\n\u001b[0;32m-> 1409\u001b[0m df_output, wide_id_vars \u001b[39m=\u001b[39m process_args_into_dataframe(\n\u001b[1;32m   1410\u001b[0m     args, wide_mode, var_name, value_name\n\u001b[1;32m   1411\u001b[0m )\n\u001b[1;32m   1413\u001b[0m \u001b[39m# now that `df_output` exists and `args` contains only references, we complete\u001b[39;00m\n\u001b[1;32m   1414\u001b[0m \u001b[39m# the special-case and wide-mode handling by further rewriting args and/or mutating\u001b[39;00m\n\u001b[1;32m   1415\u001b[0m \u001b[39m# df_output\u001b[39;00m\n\u001b[1;32m   1417\u001b[0m count_name \u001b[39m=\u001b[39m _escape_col_name(df_output, \u001b[39m\"\u001b[39m\u001b[39mcount\u001b[39m\u001b[39m\"\u001b[39m, [var_name, value_name])\n",
      "File \u001b[0;32m~/Library/Python/3.9/lib/python/site-packages/plotly/express/_core.py:1208\u001b[0m, in \u001b[0;36mprocess_args_into_dataframe\u001b[0;34m(args, wide_mode, var_name, value_name)\u001b[0m\n\u001b[1;32m   1206\u001b[0m         \u001b[39mif\u001b[39;00m argument \u001b[39m==\u001b[39m \u001b[39m\"\u001b[39m\u001b[39mindex\u001b[39m\u001b[39m\"\u001b[39m:\n\u001b[1;32m   1207\u001b[0m             err_msg \u001b[39m+\u001b[39m\u001b[39m=\u001b[39m \u001b[39m\"\u001b[39m\u001b[39m\\n\u001b[39;00m\u001b[39m To use the index, pass it in directly as `df.index`.\u001b[39m\u001b[39m\"\u001b[39m\n\u001b[0;32m-> 1208\u001b[0m         \u001b[39mraise\u001b[39;00m \u001b[39mValueError\u001b[39;00m(err_msg)\n\u001b[1;32m   1209\u001b[0m \u001b[39melif\u001b[39;00m length \u001b[39mand\u001b[39;00m \u001b[39mlen\u001b[39m(df_input[argument]) \u001b[39m!=\u001b[39m length:\n\u001b[1;32m   1210\u001b[0m     \u001b[39mraise\u001b[39;00m \u001b[39mValueError\u001b[39;00m(\n\u001b[1;32m   1211\u001b[0m         \u001b[39m\"\u001b[39m\u001b[39mAll arguments should have the same length. \u001b[39m\u001b[39m\"\u001b[39m\n\u001b[1;32m   1212\u001b[0m         \u001b[39m\"\u001b[39m\u001b[39mThe length of column argument `df[\u001b[39m\u001b[39m%s\u001b[39;00m\u001b[39m]` is \u001b[39m\u001b[39m%d\u001b[39;00m\u001b[39m, whereas the \u001b[39m\u001b[39m\"\u001b[39m\n\u001b[0;32m   (...)\u001b[0m\n\u001b[1;32m   1219\u001b[0m         )\n\u001b[1;32m   1220\u001b[0m     )\n",
      "\u001b[0;31mValueError\u001b[0m: Value of 'color' is not the name of a column in 'data_frame'. Expected one of ['network_id', 'name', 'debut_year', 'last_appearance', 'from_private', 'debut_region (keep this super long so that the layout will not be disturbed)', 'year', 'geo_category', 'latitude', 'longitude'] but received: debut_region"
     ]
    }
   ],
   "source": [
    "fig = px.scatter_mapbox(df, lat=\"latitude\", lon=\"longitude\",\n",
    "                    color_continuous_scale=\"matter\",\n",
    "            \t\tzoom=3, color=\"debut_region\",\n",
    "                    color_discrete_map={\n",
    "\t\t\t\t\t\t\"Shanghai (state)\": \"#2596be\",#green\n",
    "                        \"Shanghai (private)\" : \"#404840\",#green black\n",
    "                        \"Shanghai (roc)\" : \"#96fb96\",#light green\n",
    "                        \"Shanghai (state) / Hong Kong\" : \"#2596be\", #dark green\n",
    "\t\t\t\t\t\t\"Beijing\": \"#D063fb\",#hliotrope\n",
    "                        \"Beijing / Hong Kong\" : \"#F3c0f9\",#light purple\n",
    "\t\t\t\t\t\t\"Northeast\": \"#72d2ed\",#sky blue\n",
    "\t\t\t\t\t\t\"Xi'an\": \"#Fb9f68\",#tan orange\n",
    "\t\t\t\t\t\t\"Canton\": \"#Fb94cc\",#lavender pink\n",
    "                        \"Hong Kong / Canton\": \"#F5aedc\",#chantilly\n",
    "                        \"Xinjiang\": \"#C83b3b\",#dark red\n",
    "                        \"Sichuan\" : \"#2c6398\",#tropaz blue\n",
    "                        \"Shanghai (state) / Xinjiang\" : \"#A3a3a3\",#below are silver grey\n",
    "\t\t\t\t\t\t\"Hubei\": \"#A3a3a3\",\n",
    "\t\t\t\t\t\t\"Anhui\": \"#A3a3a3\",\n",
    "\t\t\t\t\t\t\"Shandong\": \"#A3a3a3\",\n",
    "\t\t\t\t\t\t\"Soviet Union / Northeast\": \"#A3a3a3\",\n",
    "\t\t\t\t\t\t\"Beijing / Xi'an\": \"#A3a3a3\",\n",
    "\t\t\t\t\t\t\"Hong Kong / Northeast\": \"#A3a3a3\",\n",
    "\t\t\t\t\t\t\"Inner Mongolia / Northeast\": \"#A3a3a3\",\n",
    "\t\t\t\t\t\t\"Beijing / Xinjiang\": \"#A3a3a3\",\n",
    "\t\t\t\t\t\t\"Xi'an / Qinghai\": \"#A3a3a3\",\n",
    "\t\t\t\t\t\t\"Xi'an / Northeast\": \"#A3a3a3\",\n",
    "\t\t\t\t\t\t\"Beijing / Hubei\": \"#A3a3a3\",\n",
    "\t\t\t\t\t\t\"Beijing / Anhui\": \"#A3a3a3\",\n",
    "\t\t\t\t\t\t\"Beijing / Western Europe\": \"#A3a3a3\",\n",
    "\t\t\t\t\t\t\"Shanghai (state) / Anhui\": \"#A3a3a3\",\n",
    "\t\t\t\t\t\t\"Gansu / Northeast\": \"#A3a3a3\",\n",
    "\t\t\t\t\t\t\"Shanghai (state) / Canton\": \"#A3a3a3\",\n",
    "\t\t\t\t\t\t\"Shanghai (state) / Hunan\": \"#A3a3a3\",\n",
    "\t\t\t\t\t\t\"Tianjin\": \"#A3a3a3\",\n",
    "\t\t\t\t\t\t\"Beijing / Shanghai (state)\": \"#A3a3a3\",\n",
    "\t\t\t\t\t\t\"Zhejiang\": \"#A3a3a3\",\n",
    "\t\t\t\t\t\t\"Shanghai (roc) / Shanghai (private)\": \"#A3a3a3\",\n",
    "\t\t\t\t\t\t\"Sichuan / Northeast\": \"#A3a3a3\",\n",
    "\t\t\t\t\t\t\"Shanghai (state) / Jiangsu\": \"#A3a3a3\",\n",
    "\t\t\t\t\t\t\"Beijing / Northeast\": \"#A3a3a3\",\n",
    "\t\t\t\t\t\t\"Beijing / Tianjin\": \"#A3a3a3\",\n",
    "\t\t\t\t\t\t\"Shanghai (state) / Shanghai (private)\": \"#A3a3a3\",\n",
    "\t\t\t\t\t\t\"Shanghai (state) / Northeast\": \"#A3a3a3\",\n",
    "\t\t\t\t\t\t\"Shanghai (state) / Xi'an\": \"#A3a3a3\",\n",
    "\t\t\t\t\t\t\"Northeast / Tianjin\": \"#A3a3a3\",\n",
    "\t\t\t\t\t\t\"Canton / Northeast\": \"#A3a3a3\",\n",
    "\t\t\t\t\t\t\"Beijing / Shanghai (private) / Northeast\": \"#A3a3a3\",\n",
    "\t\t\t\t\t\t\"Beijing / Sichuan\": \"#A3a3a3\",\n",
    "\t\t\t\t\t\t\"Shanghai (state) / Shandong\": \"#A3a3a3\",\n",
    "\t\t\t\t\t\t\"Beijing / Shanghai (state) / Anhui\": \"#A3a3a3\",\n",
    "\t\t\t\t\t\t\"Beijing / Shanghai (state) / Northeast\": \"#A3a3a3\"\n",
    "\t\t\t\t\t},\n",
    "                    animation_frame=\"year\", animation_group=\"network_id\",\n",
    "                    mapbox_style=\"mapbox://styles/el-mundo/clgse9vm7001x01p6hrli21dq\")\n",
    "fig.update_traces(cluster=dict(enabled=True))\n",
    "fig.show()"
   ]
  }
 ],
 "metadata": {
  "kernelspec": {
   "display_name": "Python 3",
   "language": "python",
   "name": "python3"
  },
  "language_info": {
   "codemirror_mode": {
    "name": "ipython",
    "version": 3
   },
   "file_extension": ".py",
   "mimetype": "text/x-python",
   "name": "python",
   "nbconvert_exporter": "python",
   "pygments_lexer": "ipython3",
   "version": "3.9.6"
  },
  "orig_nbformat": 4
 },
 "nbformat": 4,
 "nbformat_minor": 2
}
