{
 "cells": [
  {
   "cell_type": "code",
   "execution_count": 1,
   "metadata": {},
   "outputs": [],
   "source": [
    "import plotly.express as px\n",
    "import pandas as pd"
   ]
  },
  {
   "cell_type": "code",
   "execution_count": 2,
   "metadata": {},
   "outputs": [],
   "source": [
    "#px.set_mapbox_access_token(open(\"./mapbox_token.txt\").read())\n",
    "df = pd.read_csv(\"../source/people_plots.csv\")"
   ]
  },
  {
   "cell_type": "code",
   "execution_count": null,
   "metadata": {},
   "outputs": [],
   "source": [
    "fig = px.scatter_mapbox(df, lat=\"latitude\", lon=\"longitude\",\n",
    "                    color_continuous_scale=\"matter\",\n",
    "            \t\tzoom=3, color=\"debut_region\",\n",
    "                    color_discrete_map={\n",
    "\t\t\t\t\t\t\"Shanghai (state)\": \"#2596be\",#green\n",
    "                        \"Shanghai (private)\" : \"#404840\",#green black\n",
    "                        \"Shanghai (roc)\" : \"#96fb96\",#light green\n",
    "                        \"Shanghai (state) / Hong Kong\" : \"#2596be\", #dark green\n",
    "\t\t\t\t\t\t\"Beijing\": \"#D063fb\",#hliotrope\n",
    "                        \"Beijing / Hong Kong\" : \"#F3c0f9\",#light purple\n",
    "\t\t\t\t\t\t\"Northeast\": \"#72d2ed\",#sky blue\n",
    "\t\t\t\t\t\t\"Xi'an\": \"#Fb9f68\",#tan orange\n",
    "\t\t\t\t\t\t\"Canton\": \"#Fb94cc\",#lavender pink\n",
    "                        \"Hong Kong / Canton\": \"#F5aedc\",#chantilly\n",
    "                        \"Xinjiang\": \"#C83b3b\",#dark red\n",
    "                        \"Sichuan\" : \"#2c6398\",#tropaz blue\n",
    "                        \"Shanghai (state) / Xinjiang\" : \"#A3a3a3\",#below are silver grey\n",
    "\t\t\t\t\t\t\"Hubei\": \"#A3a3a3\",\n",
    "\t\t\t\t\t\t\"Anhui\": \"#A3a3a3\",\n",
    "\t\t\t\t\t\t\"Shandong\": \"#A3a3a3\",\n",
    "\t\t\t\t\t\t\"Soviet Union / Northeast\": \"#A3a3a3\",\n",
    "\t\t\t\t\t\t\"Beijing / Xi'an\": \"#A3a3a3\",\n",
    "\t\t\t\t\t\t\"Hong Kong / Northeast\": \"#A3a3a3\",\n",
    "\t\t\t\t\t\t\"Inner Mongolia / Northeast\": \"#A3a3a3\",\n",
    "\t\t\t\t\t\t\"Beijing / Xinjiang\": \"#A3a3a3\",\n",
    "\t\t\t\t\t\t\"Xi'an / Qinghai\": \"#A3a3a3\",\n",
    "\t\t\t\t\t\t\"Xi'an / Northeast\": \"#A3a3a3\",\n",
    "\t\t\t\t\t\t\"Beijing / Hubei\": \"#A3a3a3\",\n",
    "\t\t\t\t\t\t\"Beijing / Anhui\": \"#A3a3a3\",\n",
    "\t\t\t\t\t\t\"Beijing / Western Europe\": \"#A3a3a3\",\n",
    "\t\t\t\t\t\t\"Shanghai (state) / Anhui\": \"#A3a3a3\",\n",
    "\t\t\t\t\t\t\"Gansu / Northeast\": \"#A3a3a3\",\n",
    "\t\t\t\t\t\t\"Shanghai (state) / Canton\": \"#A3a3a3\",\n",
    "\t\t\t\t\t\t\"Shanghai (state) / Hunan\": \"#A3a3a3\",\n",
    "\t\t\t\t\t\t\"Tianjin\": \"#A3a3a3\",\n",
    "\t\t\t\t\t\t\"Beijing / Shanghai (state)\": \"#A3a3a3\",\n",
    "\t\t\t\t\t\t\"Zhejiang\": \"#A3a3a3\",\n",
    "\t\t\t\t\t\t\"Shanghai (roc) / Shanghai (private)\": \"#A3a3a3\",\n",
    "\t\t\t\t\t\t\"Sichuan / Northeast\": \"#A3a3a3\",\n",
    "\t\t\t\t\t\t\"Shanghai (state) / Jiangsu\": \"#A3a3a3\",\n",
    "\t\t\t\t\t\t\"Beijing / Northeast\": \"#A3a3a3\",\n",
    "\t\t\t\t\t\t\"Beijing / Tianjin\": \"#A3a3a3\",\n",
    "\t\t\t\t\t\t\"Shanghai (state) / Shanghai (private)\": \"#A3a3a3\",\n",
    "\t\t\t\t\t\t\"Shanghai (state) / Northeast\": \"#A3a3a3\",\n",
    "\t\t\t\t\t\t\"Shanghai (state) / Xi'an\": \"#A3a3a3\",\n",
    "\t\t\t\t\t\t\"Northeast / Tianjin\": \"#A3a3a3\",\n",
    "\t\t\t\t\t\t\"Canton / Northeast\": \"#A3a3a3\",\n",
    "\t\t\t\t\t\t\"Beijing / Shanghai (private) / Northeast\": \"#A3a3a3\",\n",
    "\t\t\t\t\t\t\"Beijing / Sichuan\": \"#A3a3a3\",\n",
    "\t\t\t\t\t\t\"Shanghai (state) / Shandong\": \"#A3a3a3\",\n",
    "\t\t\t\t\t\t\"Beijing / Shanghai (state) / Anhui\": \"#A3a3a3\",\n",
    "\t\t\t\t\t\t\"Beijing / Shanghai (state) / Northeast\": \"#A3a3a3\"\n",
    "\t\t\t\t\t},\n",
    "                    animation_frame=\"year\", animation_group=\"network_id\",\n",
    "                    mapbox_style=\"mapbox://styles/el-mundo/clgse9vm7001x01p6hrli21dq\")\n",
    "fig.update_traces(cluster=dict(enabled=True))\n",
    "fig.show()"
   ]
  }
 ],
 "metadata": {
  "kernelspec": {
   "display_name": "Python 3",
   "language": "python",
   "name": "python3"
  },
  "language_info": {
   "codemirror_mode": {
    "name": "ipython",
    "version": 3
   },
   "file_extension": ".py",
   "mimetype": "text/x-python",
   "name": "python",
   "nbconvert_exporter": "python",
   "pygments_lexer": "ipython3",
   "version": "3.9.6"
  },
  "orig_nbformat": 4
 },
 "nbformat": 4,
 "nbformat_minor": 2
}
