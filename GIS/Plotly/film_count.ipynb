{
 "cells": [
  {
   "cell_type": "code",
   "execution_count": 30,
   "metadata": {},
   "outputs": [],
   "source": [
    "import plotly.express as px\n",
    "import pandas as pd"
   ]
  },
  {
   "cell_type": "code",
   "execution_count": 38,
   "metadata": {},
   "outputs": [],
   "source": [
    "show_three_subcategories_of_Shanghai = False # When this is True the film studios in Shanghai will be splitted into three sub-categories based on their ownership\n",
    "isolate_film_count_of_each_year = False # When this is True the film count of a studio in each year will be isolated rather than accumulated\n",
    "\n",
    "tarpath = \"../source/studios_geo.csv\"\n",
    "if show_three_subcategories_of_Shanghai:\n",
    "\tif(isolate_film_count_of_each_year):\n",
    "\t\ttarpath = \"../source/studios_geo_shanghai_splited(year_isolated).csv\"\n",
    "\telse:\n",
    "\t\ttarpath = \"../source/studios_geo_shanghai_splited.csv\"\n",
    "else:\n",
    "\tif(isolate_film_count_of_each_year):\n",
    "\t\ttarpath = \"../source/studios_geo(year_isolated).csv\"\n",
    "\t\n",
    "\n",
    "px.set_mapbox_access_token(open(\"./mapbox_token.txt\").read())\n",
    "df = pd.read_csv(tarpath)"
   ]
  },
  {
   "cell_type": "code",
   "execution_count": 39,
   "metadata": {},
   "outputs": [
    {
     "data": {
      "application/vnd.plotly.v1+json": {
       "config": {
        "plotlyServerURL": "https://plot.ly"
       },
       "data": [
        {
         "cluster": {
          "enabled": true
         },
         "hovertemplate": "<b>%{hovertext}</b><br><br>year=1949-12-31<br>films_in_year=%{marker.size}<br>city=%{text}<br>latitude=%{lat}<br>longitude=%{lon}<br>colour_film_ratio_in_year=%{marker.color}<extra></extra>",
         "hovertext": [
          "Northeast",
          "Beijing",
          "Shandong",
          "Gansu",
          "Western Europe",
          "Anhui",
          "Jiangsu",
          "Canton",
          "Soviet Union",
          "Inner Mongolia",
          "Xinjiang",
          "Hunan",
          "Xi'an",
          "Zhejiang",
          "Hubei",
          "Tianjin",
          "Qinghai",
          "Sichuan",
          "Hong Kong",
          "Shanghai (all)"
         ],
         "ids": [
          "Northeast",
          "Beijing",
          "Shandong",
          "Gansu",
          "Western Europe",
          "Anhui",
          "Jiangsu",
          "Canton",
          "Soviet Union",
          "Inner Mongolia",
          "Xinjiang",
          "Hunan",
          "Xi'an",
          "Zhejiang",
          "Hubei",
          "Tianjin",
          "Qinghai",
          "Sichuan",
          "Hong Kong",
          "Shanghai (all)"
         ],
         "lat": [
          43.816,
          39.9042,
          36.6518,
          36.0614,
          48.8566,
          31.8206,
          32.0584,
          23.1291,
          55.7558,
          40.8415,
          43.8266,
          28.2278,
          34.2658,
          30.2741,
          30.5928,
          39.0851,
          36.6173,
          30.5723,
          22.3139,
          31.2304
         ],
         "legendgroup": "",
         "lon": [
          125.3236,
          116.4074,
          117.1201,
          103.8342,
          2.3522,
          117.229,
          118.7965,
          113.2644,
          37.6173,
          111.752,
          87.6169,
          112.9389,
          108.9541,
          120.1552,
          114.3052,
          117.1994,
          101.7778,
          104.0665,
          114.1694,
          121.4737
         ],
         "marker": {
          "color": [
           0,
           0,
           0,
           0,
           0,
           0,
           0,
           0,
           0,
           0,
           0,
           0,
           0,
           0,
           0,
           0,
           0,
           0,
           0,
           0.0714285714285714
          ],
          "coloraxis": "coloraxis",
          "size": [
           6,
           0,
           0,
           0,
           0,
           0,
           0,
           0,
           0,
           0,
           0,
           0,
           0,
           0,
           0,
           0,
           0,
           0,
           0,
           25
          ],
          "sizemode": "area",
          "sizeref": 0.05102222222222222
         },
         "mode": "markers+text",
         "name": "",
         "showlegend": false,
         "subplot": "mapbox",
         "text": [
          "Changchun",
          "Beijing",
          "Jinan",
          "Lanzhou",
          "Paris",
          "Hefei",
          "Nanjing",
          "Guangzhou",
          "Moscow",
          "Hohhot",
          "Ürümqi",
          "Changsha",
          "Xi’an",
          "Hangzhou",
          "Wuhan",
          "Tianjin",
          "Xining",
          "Chengdu",
          "Hong Kong",
          "Shanghai"
         ],
         "type": "scattermapbox"
        }
       ],
       "frames": [
        {
         "data": [
          {
           "hovertemplate": "<b>%{hovertext}</b><br><br>year=1949-12-31<br>films_in_year=%{marker.size}<br>city=%{text}<br>latitude=%{lat}<br>longitude=%{lon}<br>colour_film_ratio_in_year=%{marker.color}<extra></extra>",
           "hovertext": [
            "Northeast",
            "Beijing",
            "Shandong",
            "Gansu",
            "Western Europe",
            "Anhui",
            "Jiangsu",
            "Canton",
            "Soviet Union",
            "Inner Mongolia",
            "Xinjiang",
            "Hunan",
            "Xi'an",
            "Zhejiang",
            "Hubei",
            "Tianjin",
            "Qinghai",
            "Sichuan",
            "Hong Kong",
            "Shanghai (all)"
           ],
           "ids": [
            "Northeast",
            "Beijing",
            "Shandong",
            "Gansu",
            "Western Europe",
            "Anhui",
            "Jiangsu",
            "Canton",
            "Soviet Union",
            "Inner Mongolia",
            "Xinjiang",
            "Hunan",
            "Xi'an",
            "Zhejiang",
            "Hubei",
            "Tianjin",
            "Qinghai",
            "Sichuan",
            "Hong Kong",
            "Shanghai (all)"
           ],
           "lat": [
            43.816,
            39.9042,
            36.6518,
            36.0614,
            48.8566,
            31.8206,
            32.0584,
            23.1291,
            55.7558,
            40.8415,
            43.8266,
            28.2278,
            34.2658,
            30.2741,
            30.5928,
            39.0851,
            36.6173,
            30.5723,
            22.3139,
            31.2304
           ],
           "legendgroup": "",
           "lon": [
            125.3236,
            116.4074,
            117.1201,
            103.8342,
            2.3522,
            117.229,
            118.7965,
            113.2644,
            37.6173,
            111.752,
            87.6169,
            112.9389,
            108.9541,
            120.1552,
            114.3052,
            117.1994,
            101.7778,
            104.0665,
            114.1694,
            121.4737
           ],
           "marker": {
            "color": [
             0,
             0,
             0,
             0,
             0,
             0,
             0,
             0,
             0,
             0,
             0,
             0,
             0,
             0,
             0,
             0,
             0,
             0,
             0,
             0.0714285714285714
            ],
            "coloraxis": "coloraxis",
            "size": [
             6,
             0,
             0,
             0,
             0,
             0,
             0,
             0,
             0,
             0,
             0,
             0,
             0,
             0,
             0,
             0,
             0,
             0,
             0,
             25
            ],
            "sizemode": "area",
            "sizeref": 0.05102222222222222
           },
           "mode": "markers+text",
           "name": "",
           "showlegend": false,
           "subplot": "mapbox",
           "text": [
            "Changchun",
            "Beijing",
            "Jinan",
            "Lanzhou",
            "Paris",
            "Hefei",
            "Nanjing",
            "Guangzhou",
            "Moscow",
            "Hohhot",
            "Ürümqi",
            "Changsha",
            "Xi’an",
            "Hangzhou",
            "Wuhan",
            "Tianjin",
            "Xining",
            "Chengdu",
            "Hong Kong",
            "Shanghai"
           ],
           "type": "scattermapbox"
          }
         ],
         "name": "1949-12-31"
        },
        {
         "data": [
          {
           "hovertemplate": "<b>%{hovertext}</b><br><br>year=1950-12-31<br>films_in_year=%{marker.size}<br>city=%{text}<br>latitude=%{lat}<br>longitude=%{lon}<br>colour_film_ratio_in_year=%{marker.color}<extra></extra>",
           "hovertext": [
            "Northeast",
            "Beijing",
            "Shandong",
            "Gansu",
            "Western Europe",
            "Anhui",
            "Jiangsu",
            "Canton",
            "Soviet Union",
            "Inner Mongolia",
            "Xinjiang",
            "Hunan",
            "Xi'an",
            "Zhejiang",
            "Hubei",
            "Tianjin",
            "Qinghai",
            "Sichuan",
            "Hong Kong",
            "Shanghai (all)"
           ],
           "ids": [
            "Northeast",
            "Beijing",
            "Shandong",
            "Gansu",
            "Western Europe",
            "Anhui",
            "Jiangsu",
            "Canton",
            "Soviet Union",
            "Inner Mongolia",
            "Xinjiang",
            "Hunan",
            "Xi'an",
            "Zhejiang",
            "Hubei",
            "Tianjin",
            "Qinghai",
            "Sichuan",
            "Hong Kong",
            "Shanghai (all)"
           ],
           "lat": [
            43.816,
            39.9042,
            36.6518,
            36.0614,
            48.8566,
            31.8206,
            32.0584,
            23.1291,
            55.7558,
            40.8415,
            43.8266,
            28.2278,
            34.2658,
            30.2741,
            30.5928,
            39.0851,
            36.6173,
            30.5723,
            22.3139,
            31.2304
           ],
           "legendgroup": "",
           "lon": [
            125.3236,
            116.4074,
            117.1201,
            103.8342,
            2.3522,
            117.229,
            118.7965,
            113.2644,
            37.6173,
            111.752,
            87.6169,
            112.9389,
            108.9541,
            120.1552,
            114.3052,
            117.1994,
            101.7778,
            104.0665,
            114.1694,
            121.4737
           ],
           "marker": {
            "color": [
             0,
             0,
             0,
             0,
             0,
             0,
             0,
             0,
             0,
             0,
             0,
             0,
             0,
             0,
             0,
             0,
             0,
             0,
             0,
             0.032258064516129
            ],
            "coloraxis": "coloraxis",
            "size": [
             19,
             6,
             0,
             0,
             0,
             0,
             0,
             0,
             0,
             0,
             0,
             0,
             0,
             0,
             0,
             0,
             0,
             0,
             0,
             48
            ],
            "sizemode": "area",
            "sizeref": 0.05102222222222222
           },
           "mode": "markers+text",
           "name": "",
           "showlegend": false,
           "subplot": "mapbox",
           "text": [
            "Changchun",
            "Beijing",
            "Jinan",
            "Lanzhou",
            "Paris",
            "Hefei",
            "Nanjing",
            "Guangzhou",
            "Moscow",
            "Hohhot",
            "Ürümqi",
            "Changsha",
            "Xi’an",
            "Hangzhou",
            "Wuhan",
            "Tianjin",
            "Xining",
            "Chengdu",
            "Hong Kong",
            "Shanghai"
           ],
           "type": "scattermapbox"
          }
         ],
         "name": "1950-12-31"
        },
        {
         "data": [
          {
           "hovertemplate": "<b>%{hovertext}</b><br><br>year=1951-12-31<br>films_in_year=%{marker.size}<br>city=%{text}<br>latitude=%{lat}<br>longitude=%{lon}<br>colour_film_ratio_in_year=%{marker.color}<extra></extra>",
           "hovertext": [
            "Northeast",
            "Beijing",
            "Shandong",
            "Gansu",
            "Western Europe",
            "Anhui",
            "Jiangsu",
            "Canton",
            "Soviet Union",
            "Inner Mongolia",
            "Xinjiang",
            "Hunan",
            "Xi'an",
            "Zhejiang",
            "Hubei",
            "Tianjin",
            "Qinghai",
            "Sichuan",
            "Hong Kong",
            "Shanghai (all)"
           ],
           "ids": [
            "Northeast",
            "Beijing",
            "Shandong",
            "Gansu",
            "Western Europe",
            "Anhui",
            "Jiangsu",
            "Canton",
            "Soviet Union",
            "Inner Mongolia",
            "Xinjiang",
            "Hunan",
            "Xi'an",
            "Zhejiang",
            "Hubei",
            "Tianjin",
            "Qinghai",
            "Sichuan",
            "Hong Kong",
            "Shanghai (all)"
           ],
           "lat": [
            43.816,
            39.9042,
            36.6518,
            36.0614,
            48.8566,
            31.8206,
            32.0584,
            23.1291,
            55.7558,
            40.8415,
            43.8266,
            28.2278,
            34.2658,
            30.2741,
            30.5928,
            39.0851,
            36.6173,
            30.5723,
            22.3139,
            31.2304
           ],
           "legendgroup": "",
           "lon": [
            125.3236,
            116.4074,
            117.1201,
            103.8342,
            2.3522,
            117.229,
            118.7965,
            113.2644,
            37.6173,
            111.752,
            87.6169,
            112.9389,
            108.9541,
            120.1552,
            114.3052,
            117.1994,
            101.7778,
            104.0665,
            114.1694,
            121.4737
           ],
           "marker": {
            "color": [
             0,
             0,
             0,
             0,
             0,
             0,
             0,
             0,
             0,
             0,
             0,
             0,
             0,
             0,
             0,
             0,
             0,
             0,
             0,
             0.02
            ],
            "coloraxis": "coloraxis",
            "size": [
             20,
             9,
             0,
             0,
             0,
             0,
             0,
             0,
             0,
             0,
             0,
             0,
             0,
             0,
             0,
             0,
             0,
             0,
             0,
             70
            ],
            "sizemode": "area",
            "sizeref": 0.05102222222222222
           },
           "mode": "markers+text",
           "name": "",
           "showlegend": false,
           "subplot": "mapbox",
           "text": [
            "Changchun",
            "Beijing",
            "Jinan",
            "Lanzhou",
            "Paris",
            "Hefei",
            "Nanjing",
            "Guangzhou",
            "Moscow",
            "Hohhot",
            "Ürümqi",
            "Changsha",
            "Xi’an",
            "Hangzhou",
            "Wuhan",
            "Tianjin",
            "Xining",
            "Chengdu",
            "Hong Kong",
            "Shanghai"
           ],
           "type": "scattermapbox"
          }
         ],
         "name": "1951-12-31"
        },
        {
         "data": [
          {
           "hovertemplate": "<b>%{hovertext}</b><br><br>year=1952-12-31<br>films_in_year=%{marker.size}<br>city=%{text}<br>latitude=%{lat}<br>longitude=%{lon}<br>colour_film_ratio_in_year=%{marker.color}<extra></extra>",
           "hovertext": [
            "Northeast",
            "Beijing",
            "Shandong",
            "Gansu",
            "Western Europe",
            "Anhui",
            "Jiangsu",
            "Canton",
            "Soviet Union",
            "Inner Mongolia",
            "Xinjiang",
            "Hunan",
            "Xi'an",
            "Zhejiang",
            "Hubei",
            "Tianjin",
            "Qinghai",
            "Sichuan",
            "Hong Kong",
            "Shanghai (all)"
           ],
           "ids": [
            "Northeast",
            "Beijing",
            "Shandong",
            "Gansu",
            "Western Europe",
            "Anhui",
            "Jiangsu",
            "Canton",
            "Soviet Union",
            "Inner Mongolia",
            "Xinjiang",
            "Hunan",
            "Xi'an",
            "Zhejiang",
            "Hubei",
            "Tianjin",
            "Qinghai",
            "Sichuan",
            "Hong Kong",
            "Shanghai (all)"
           ],
           "lat": [
            43.816,
            39.9042,
            36.6518,
            36.0614,
            48.8566,
            31.8206,
            32.0584,
            23.1291,
            55.7558,
            40.8415,
            43.8266,
            28.2278,
            34.2658,
            30.2741,
            30.5928,
            39.0851,
            36.6173,
            30.5723,
            22.3139,
            31.2304
           ],
           "legendgroup": "",
           "lon": [
            125.3236,
            116.4074,
            117.1201,
            103.8342,
            2.3522,
            117.229,
            118.7965,
            113.2644,
            37.6173,
            111.752,
            87.6169,
            112.9389,
            108.9541,
            120.1552,
            114.3052,
            117.1994,
            101.7778,
            104.0665,
            114.1694,
            121.4737
           ],
           "marker": {
            "color": [
             0,
             0,
             0,
             0,
             0,
             0,
             0,
             0,
             0,
             0,
             0,
             0,
             0,
             0,
             0,
             0,
             0,
             0,
             0,
             0.0181818181818181
            ],
            "coloraxis": "coloraxis",
            "size": [
             22,
             11,
             0,
             0,
             0,
             0,
             0,
             0,
             0,
             0,
             0,
             0,
             0,
             0,
             0,
             0,
             0,
             0,
             0,
             75
            ],
            "sizemode": "area",
            "sizeref": 0.05102222222222222
           },
           "mode": "markers+text",
           "name": "",
           "showlegend": false,
           "subplot": "mapbox",
           "text": [
            "Changchun",
            "Beijing",
            "Jinan",
            "Lanzhou",
            "Paris",
            "Hefei",
            "Nanjing",
            "Guangzhou",
            "Moscow",
            "Hohhot",
            "Ürümqi",
            "Changsha",
            "Xi’an",
            "Hangzhou",
            "Wuhan",
            "Tianjin",
            "Xining",
            "Chengdu",
            "Hong Kong",
            "Shanghai"
           ],
           "type": "scattermapbox"
          }
         ],
         "name": "1952-12-31"
        },
        {
         "data": [
          {
           "hovertemplate": "<b>%{hovertext}</b><br><br>year=1953-12-31<br>films_in_year=%{marker.size}<br>city=%{text}<br>latitude=%{lat}<br>longitude=%{lon}<br>colour_film_ratio_in_year=%{marker.color}<extra></extra>",
           "hovertext": [
            "Northeast",
            "Beijing",
            "Shandong",
            "Gansu",
            "Western Europe",
            "Anhui",
            "Jiangsu",
            "Canton",
            "Soviet Union",
            "Inner Mongolia",
            "Xinjiang",
            "Hunan",
            "Xi'an",
            "Zhejiang",
            "Hubei",
            "Tianjin",
            "Qinghai",
            "Sichuan",
            "Hong Kong",
            "Shanghai (all)"
           ],
           "ids": [
            "Northeast",
            "Beijing",
            "Shandong",
            "Gansu",
            "Western Europe",
            "Anhui",
            "Jiangsu",
            "Canton",
            "Soviet Union",
            "Inner Mongolia",
            "Xinjiang",
            "Hunan",
            "Xi'an",
            "Zhejiang",
            "Hubei",
            "Tianjin",
            "Qinghai",
            "Sichuan",
            "Hong Kong",
            "Shanghai (all)"
           ],
           "lat": [
            43.816,
            39.9042,
            36.6518,
            36.0614,
            48.8566,
            31.8206,
            32.0584,
            23.1291,
            55.7558,
            40.8415,
            43.8266,
            28.2278,
            34.2658,
            30.2741,
            30.5928,
            39.0851,
            36.6173,
            30.5723,
            22.3139,
            31.2304
           ],
           "legendgroup": "",
           "lon": [
            125.3236,
            116.4074,
            117.1201,
            103.8342,
            2.3522,
            117.229,
            118.7965,
            113.2644,
            37.6173,
            111.752,
            87.6169,
            112.9389,
            108.9541,
            120.1552,
            114.3052,
            117.1994,
            101.7778,
            104.0665,
            114.1694,
            121.4737
           ],
           "marker": {
            "color": [
             0,
             0,
             0,
             0,
             0,
             0,
             0,
             0,
             0,
             0,
             0,
             0,
             0,
             0,
             0,
             0,
             0,
             0,
             0,
             0.0169491525423728
            ],
            "coloraxis": "coloraxis",
            "size": [
             26,
             13,
             0,
             0,
             0,
             0,
             0,
             0,
             0,
             0,
             0,
             0,
             0,
             0,
             0,
             0,
             0,
             0,
             0,
             79
            ],
            "sizemode": "area",
            "sizeref": 0.05102222222222222
           },
           "mode": "markers+text",
           "name": "",
           "showlegend": false,
           "subplot": "mapbox",
           "text": [
            "Changchun",
            "Beijing",
            "Jinan",
            "Lanzhou",
            "Paris",
            "Hefei",
            "Nanjing",
            "Guangzhou",
            "Moscow",
            "Hohhot",
            "Ürümqi",
            "Changsha",
            "Xi’an",
            "Hangzhou",
            "Wuhan",
            "Tianjin",
            "Xining",
            "Chengdu",
            "Hong Kong",
            "Shanghai"
           ],
           "type": "scattermapbox"
          }
         ],
         "name": "1953-12-31"
        },
        {
         "data": [
          {
           "hovertemplate": "<b>%{hovertext}</b><br><br>year=1954-12-31<br>films_in_year=%{marker.size}<br>city=%{text}<br>latitude=%{lat}<br>longitude=%{lon}<br>colour_film_ratio_in_year=%{marker.color}<extra></extra>",
           "hovertext": [
            "Northeast",
            "Beijing",
            "Shandong",
            "Gansu",
            "Western Europe",
            "Anhui",
            "Jiangsu",
            "Canton",
            "Soviet Union",
            "Inner Mongolia",
            "Xinjiang",
            "Hunan",
            "Xi'an",
            "Zhejiang",
            "Hubei",
            "Tianjin",
            "Qinghai",
            "Sichuan",
            "Hong Kong",
            "Shanghai (all)"
           ],
           "ids": [
            "Northeast",
            "Beijing",
            "Shandong",
            "Gansu",
            "Western Europe",
            "Anhui",
            "Jiangsu",
            "Canton",
            "Soviet Union",
            "Inner Mongolia",
            "Xinjiang",
            "Hunan",
            "Xi'an",
            "Zhejiang",
            "Hubei",
            "Tianjin",
            "Qinghai",
            "Sichuan",
            "Hong Kong",
            "Shanghai (all)"
           ],
           "lat": [
            43.816,
            39.9042,
            36.6518,
            36.0614,
            48.8566,
            31.8206,
            32.0584,
            23.1291,
            55.7558,
            40.8415,
            43.8266,
            28.2278,
            34.2658,
            30.2741,
            30.5928,
            39.0851,
            36.6173,
            30.5723,
            22.3139,
            31.2304
           ],
           "legendgroup": "",
           "lon": [
            125.3236,
            116.4074,
            117.1201,
            103.8342,
            2.3522,
            117.229,
            118.7965,
            113.2644,
            37.6173,
            111.752,
            87.6169,
            112.9389,
            108.9541,
            120.1552,
            114.3052,
            117.1994,
            101.7778,
            104.0665,
            114.1694,
            121.4737
           ],
           "marker": {
            "color": [
             0,
             0,
             0,
             0,
             0,
             0,
             0,
             0,
             0,
             0,
             0,
             0,
             0,
             0,
             0,
             0,
             0,
             0,
             0,
             0.0277777777777777
            ],
            "coloraxis": "coloraxis",
            "size": [
             34,
             16,
             1,
             0,
             0,
             0,
             0,
             0,
             0,
             0,
             0,
             0,
             0,
             0,
             0,
             0,
             0,
             0,
             0,
             92
            ],
            "sizemode": "area",
            "sizeref": 0.05102222222222222
           },
           "mode": "markers+text",
           "name": "",
           "showlegend": false,
           "subplot": "mapbox",
           "text": [
            "Changchun",
            "Beijing",
            "Jinan",
            "Lanzhou",
            "Paris",
            "Hefei",
            "Nanjing",
            "Guangzhou",
            "Moscow",
            "Hohhot",
            "Ürümqi",
            "Changsha",
            "Xi’an",
            "Hangzhou",
            "Wuhan",
            "Tianjin",
            "Xining",
            "Chengdu",
            "Hong Kong",
            "Shanghai"
           ],
           "type": "scattermapbox"
          }
         ],
         "name": "1954-12-31"
        },
        {
         "data": [
          {
           "hovertemplate": "<b>%{hovertext}</b><br><br>year=1955-12-31<br>films_in_year=%{marker.size}<br>city=%{text}<br>latitude=%{lat}<br>longitude=%{lon}<br>colour_film_ratio_in_year=%{marker.color}<extra></extra>",
           "hovertext": [
            "Northeast",
            "Beijing",
            "Shandong",
            "Gansu",
            "Western Europe",
            "Anhui",
            "Jiangsu",
            "Canton",
            "Soviet Union",
            "Inner Mongolia",
            "Xinjiang",
            "Hunan",
            "Xi'an",
            "Zhejiang",
            "Hubei",
            "Tianjin",
            "Qinghai",
            "Sichuan",
            "Hong Kong",
            "Shanghai (all)"
           ],
           "ids": [
            "Northeast",
            "Beijing",
            "Shandong",
            "Gansu",
            "Western Europe",
            "Anhui",
            "Jiangsu",
            "Canton",
            "Soviet Union",
            "Inner Mongolia",
            "Xinjiang",
            "Hunan",
            "Xi'an",
            "Zhejiang",
            "Hubei",
            "Tianjin",
            "Qinghai",
            "Sichuan",
            "Hong Kong",
            "Shanghai (all)"
           ],
           "lat": [
            43.816,
            39.9042,
            36.6518,
            36.0614,
            48.8566,
            31.8206,
            32.0584,
            23.1291,
            55.7558,
            40.8415,
            43.8266,
            28.2278,
            34.2658,
            30.2741,
            30.5928,
            39.0851,
            36.6173,
            30.5723,
            22.3139,
            31.2304
           ],
           "legendgroup": "",
           "lon": [
            125.3236,
            116.4074,
            117.1201,
            103.8342,
            2.3522,
            117.229,
            118.7965,
            113.2644,
            37.6173,
            111.752,
            87.6169,
            112.9389,
            108.9541,
            120.1552,
            114.3052,
            117.1994,
            101.7778,
            104.0665,
            114.1694,
            121.4737
           ],
           "marker": {
            "color": [
             0,
             0.0526315789473684,
             0,
             0,
             0,
             0,
             0,
             0,
             0,
             0,
             0,
             0,
             0,
             0,
             0,
             0,
             0,
             0,
             0,
             0.0357142857142857
            ],
            "coloraxis": "coloraxis",
            "size": [
             44,
             19,
             1,
             0,
             0,
             0,
             0,
             0,
             0,
             0,
             0,
             0,
             0,
             0,
             0,
             0,
             0,
             0,
             0,
             104
            ],
            "sizemode": "area",
            "sizeref": 0.05102222222222222
           },
           "mode": "markers+text",
           "name": "",
           "showlegend": false,
           "subplot": "mapbox",
           "text": [
            "Changchun",
            "Beijing",
            "Jinan",
            "Lanzhou",
            "Paris",
            "Hefei",
            "Nanjing",
            "Guangzhou",
            "Moscow",
            "Hohhot",
            "Ürümqi",
            "Changsha",
            "Xi’an",
            "Hangzhou",
            "Wuhan",
            "Tianjin",
            "Xining",
            "Chengdu",
            "Hong Kong",
            "Shanghai"
           ],
           "type": "scattermapbox"
          }
         ],
         "name": "1955-12-31"
        },
        {
         "data": [
          {
           "hovertemplate": "<b>%{hovertext}</b><br><br>year=1956-12-31<br>films_in_year=%{marker.size}<br>city=%{text}<br>latitude=%{lat}<br>longitude=%{lon}<br>colour_film_ratio_in_year=%{marker.color}<extra></extra>",
           "hovertext": [
            "Northeast",
            "Beijing",
            "Shandong",
            "Gansu",
            "Western Europe",
            "Anhui",
            "Jiangsu",
            "Canton",
            "Soviet Union",
            "Inner Mongolia",
            "Xinjiang",
            "Hunan",
            "Xi'an",
            "Zhejiang",
            "Hubei",
            "Tianjin",
            "Qinghai",
            "Sichuan",
            "Hong Kong",
            "Shanghai (all)"
           ],
           "ids": [
            "Northeast",
            "Beijing",
            "Shandong",
            "Gansu",
            "Western Europe",
            "Anhui",
            "Jiangsu",
            "Canton",
            "Soviet Union",
            "Inner Mongolia",
            "Xinjiang",
            "Hunan",
            "Xi'an",
            "Zhejiang",
            "Hubei",
            "Tianjin",
            "Qinghai",
            "Sichuan",
            "Hong Kong",
            "Shanghai (all)"
           ],
           "lat": [
            43.816,
            39.9042,
            36.6518,
            36.0614,
            48.8566,
            31.8206,
            32.0584,
            23.1291,
            55.7558,
            40.8415,
            43.8266,
            28.2278,
            34.2658,
            30.2741,
            30.5928,
            39.0851,
            36.6173,
            30.5723,
            22.3139,
            31.2304
           ],
           "legendgroup": "",
           "lon": [
            125.3236,
            116.4074,
            117.1201,
            103.8342,
            2.3522,
            117.229,
            118.7965,
            113.2644,
            37.6173,
            111.752,
            87.6169,
            112.9389,
            108.9541,
            120.1552,
            114.3052,
            117.1994,
            101.7778,
            104.0665,
            114.1694,
            121.4737
           ],
           "marker": {
            "color": [
             0,
             0.1851851851851851,
             0,
             0,
             0,
             0,
             0,
             0,
             0,
             0,
             0,
             0,
             0,
             0,
             0,
             0,
             0,
             0,
             0,
             0.0576923076923076
            ],
            "coloraxis": "coloraxis",
            "size": [
             59,
             27,
             1,
             0,
             0,
             0,
             0,
             0,
             0,
             0,
             0,
             0,
             0,
             0,
             0,
             0,
             0,
             0,
             0,
             124
            ],
            "sizemode": "area",
            "sizeref": 0.05102222222222222
           },
           "mode": "markers+text",
           "name": "",
           "showlegend": false,
           "subplot": "mapbox",
           "text": [
            "Changchun",
            "Beijing",
            "Jinan",
            "Lanzhou",
            "Paris",
            "Hefei",
            "Nanjing",
            "Guangzhou",
            "Moscow",
            "Hohhot",
            "Ürümqi",
            "Changsha",
            "Xi’an",
            "Hangzhou",
            "Wuhan",
            "Tianjin",
            "Xining",
            "Chengdu",
            "Hong Kong",
            "Shanghai"
           ],
           "type": "scattermapbox"
          }
         ],
         "name": "1956-12-31"
        },
        {
         "data": [
          {
           "hovertemplate": "<b>%{hovertext}</b><br><br>year=1957-12-31<br>films_in_year=%{marker.size}<br>city=%{text}<br>latitude=%{lat}<br>longitude=%{lon}<br>colour_film_ratio_in_year=%{marker.color}<extra></extra>",
           "hovertext": [
            "Northeast",
            "Beijing",
            "Shandong",
            "Gansu",
            "Western Europe",
            "Anhui",
            "Jiangsu",
            "Canton",
            "Soviet Union",
            "Inner Mongolia",
            "Xinjiang",
            "Hunan",
            "Xi'an",
            "Zhejiang",
            "Hubei",
            "Tianjin",
            "Qinghai",
            "Sichuan",
            "Hong Kong",
            "Shanghai (all)"
           ],
           "ids": [
            "Northeast",
            "Beijing",
            "Shandong",
            "Gansu",
            "Western Europe",
            "Anhui",
            "Jiangsu",
            "Canton",
            "Soviet Union",
            "Inner Mongolia",
            "Xinjiang",
            "Hunan",
            "Xi'an",
            "Zhejiang",
            "Hubei",
            "Tianjin",
            "Qinghai",
            "Sichuan",
            "Hong Kong",
            "Shanghai (all)"
           ],
           "lat": [
            43.816,
            39.9042,
            36.6518,
            36.0614,
            48.8566,
            31.8206,
            32.0584,
            23.1291,
            55.7558,
            40.8415,
            43.8266,
            28.2278,
            34.2658,
            30.2741,
            30.5928,
            39.0851,
            36.6173,
            30.5723,
            22.3139,
            31.2304
           ],
           "legendgroup": "",
           "lon": [
            125.3236,
            116.4074,
            117.1201,
            103.8342,
            2.3522,
            117.229,
            118.7965,
            113.2644,
            37.6173,
            111.752,
            87.6169,
            112.9389,
            108.9541,
            120.1552,
            114.3052,
            117.1994,
            101.7778,
            104.0665,
            114.1694,
            121.4737
           ],
           "marker": {
            "color": [
             0.0136986301369863,
             0.2631578947368421,
             0,
             0,
             0,
             0,
             0,
             0,
             0,
             0,
             0,
             0,
             0,
             0,
             0,
             0,
             0,
             0,
             0,
             0.081967213114754
            ],
            "coloraxis": "coloraxis",
            "size": [
             73,
             38,
             1,
             0,
             0,
             0,
             0,
             0,
             0,
             0,
             0,
             0,
             0,
             0,
             0,
             0,
             0,
             0,
             0,
             142
            ],
            "sizemode": "area",
            "sizeref": 0.05102222222222222
           },
           "mode": "markers+text",
           "name": "",
           "showlegend": false,
           "subplot": "mapbox",
           "text": [
            "Changchun",
            "Beijing",
            "Jinan",
            "Lanzhou",
            "Paris",
            "Hefei",
            "Nanjing",
            "Guangzhou",
            "Moscow",
            "Hohhot",
            "Ürümqi",
            "Changsha",
            "Xi’an",
            "Hangzhou",
            "Wuhan",
            "Tianjin",
            "Xining",
            "Chengdu",
            "Hong Kong",
            "Shanghai"
           ],
           "type": "scattermapbox"
          }
         ],
         "name": "1957-12-31"
        },
        {
         "data": [
          {
           "hovertemplate": "<b>%{hovertext}</b><br><br>year=1958-12-31<br>films_in_year=%{marker.size}<br>city=%{text}<br>latitude=%{lat}<br>longitude=%{lon}<br>colour_film_ratio_in_year=%{marker.color}<extra></extra>",
           "hovertext": [
            "Northeast",
            "Beijing",
            "Shandong",
            "Gansu",
            "Western Europe",
            "Anhui",
            "Jiangsu",
            "Canton",
            "Soviet Union",
            "Inner Mongolia",
            "Xinjiang",
            "Hunan",
            "Xi'an",
            "Zhejiang",
            "Hubei",
            "Tianjin",
            "Qinghai",
            "Sichuan",
            "Hong Kong",
            "Shanghai (all)"
           ],
           "ids": [
            "Northeast",
            "Beijing",
            "Shandong",
            "Gansu",
            "Western Europe",
            "Anhui",
            "Jiangsu",
            "Canton",
            "Soviet Union",
            "Inner Mongolia",
            "Xinjiang",
            "Hunan",
            "Xi'an",
            "Zhejiang",
            "Hubei",
            "Tianjin",
            "Qinghai",
            "Sichuan",
            "Hong Kong",
            "Shanghai (all)"
           ],
           "lat": [
            43.816,
            39.9042,
            36.6518,
            36.0614,
            48.8566,
            31.8206,
            32.0584,
            23.1291,
            55.7558,
            40.8415,
            43.8266,
            28.2278,
            34.2658,
            30.2741,
            30.5928,
            39.0851,
            36.6173,
            30.5723,
            22.3139,
            31.2304
           ],
           "legendgroup": "",
           "lon": [
            125.3236,
            116.4074,
            117.1201,
            103.8342,
            2.3522,
            117.229,
            118.7965,
            113.2644,
            37.6173,
            111.752,
            87.6169,
            112.9389,
            108.9541,
            120.1552,
            114.3052,
            117.1994,
            101.7778,
            104.0665,
            114.1694,
            121.4737
           ],
           "marker": {
            "color": [
             0.048076923076923,
             0.2459016393442623,
             0,
             0,
             1,
             0,
             0,
             0,
             0,
             0,
             0,
             0,
             0,
             0,
             0,
             0,
             0,
             0,
             0,
             0.0693641618497109
            ],
            "coloraxis": "coloraxis",
            "size": [
             104,
             61,
             1,
             1,
             1,
             1,
             1,
             1,
             0,
             0,
             0,
             0,
             0,
             0,
             0,
             0,
             0,
             0,
             0,
             193
            ],
            "sizemode": "area",
            "sizeref": 0.05102222222222222
           },
           "mode": "markers+text",
           "name": "",
           "showlegend": false,
           "subplot": "mapbox",
           "text": [
            "Changchun",
            "Beijing",
            "Jinan",
            "Lanzhou",
            "Paris",
            "Hefei",
            "Nanjing",
            "Guangzhou",
            "Moscow",
            "Hohhot",
            "Ürümqi",
            "Changsha",
            "Xi’an",
            "Hangzhou",
            "Wuhan",
            "Tianjin",
            "Xining",
            "Chengdu",
            "Hong Kong",
            "Shanghai"
           ],
           "type": "scattermapbox"
          }
         ],
         "name": "1958-12-31"
        },
        {
         "data": [
          {
           "hovertemplate": "<b>%{hovertext}</b><br><br>year=1959-12-31<br>films_in_year=%{marker.size}<br>city=%{text}<br>latitude=%{lat}<br>longitude=%{lon}<br>colour_film_ratio_in_year=%{marker.color}<extra></extra>",
           "hovertext": [
            "Northeast",
            "Beijing",
            "Shandong",
            "Gansu",
            "Western Europe",
            "Anhui",
            "Jiangsu",
            "Canton",
            "Soviet Union",
            "Inner Mongolia",
            "Xinjiang",
            "Hunan",
            "Xi'an",
            "Zhejiang",
            "Hubei",
            "Tianjin",
            "Qinghai",
            "Sichuan",
            "Hong Kong",
            "Shanghai (all)"
           ],
           "ids": [
            "Northeast",
            "Beijing",
            "Shandong",
            "Gansu",
            "Western Europe",
            "Anhui",
            "Jiangsu",
            "Canton",
            "Soviet Union",
            "Inner Mongolia",
            "Xinjiang",
            "Hunan",
            "Xi'an",
            "Zhejiang",
            "Hubei",
            "Tianjin",
            "Qinghai",
            "Sichuan",
            "Hong Kong",
            "Shanghai (all)"
           ],
           "lat": [
            43.816,
            39.9042,
            36.6518,
            36.0614,
            48.8566,
            31.8206,
            32.0584,
            23.1291,
            55.7558,
            40.8415,
            43.8266,
            28.2278,
            34.2658,
            30.2741,
            30.5928,
            39.0851,
            36.6173,
            30.5723,
            22.3139,
            31.2304
           ],
           "legendgroup": "",
           "lon": [
            125.3236,
            116.4074,
            117.1201,
            103.8342,
            2.3522,
            117.229,
            118.7965,
            113.2644,
            37.6173,
            111.752,
            87.6169,
            112.9389,
            108.9541,
            120.1552,
            114.3052,
            117.1994,
            101.7778,
            104.0665,
            114.1694,
            121.4737
           ],
           "marker": {
            "color": [
             0.1307692307692307,
             0.3536585365853658,
             0,
             0,
             1,
             0,
             0,
             0,
             1,
             0.5,
             1,
             0,
             0,
             0,
             0,
             0,
             0,
             0,
             0,
             0.115
            ],
            "coloraxis": "coloraxis",
            "size": [
             130,
             82,
             2,
             1,
             1,
             3,
             1,
             2,
             1,
             2,
             1,
             1,
             3,
             1,
             1,
             0,
             0,
             0,
             0,
             220
            ],
            "sizemode": "area",
            "sizeref": 0.05102222222222222
           },
           "mode": "markers+text",
           "name": "",
           "showlegend": false,
           "subplot": "mapbox",
           "text": [
            "Changchun",
            "Beijing",
            "Jinan",
            "Lanzhou",
            "Paris",
            "Hefei",
            "Nanjing",
            "Guangzhou",
            "Moscow",
            "Hohhot",
            "Ürümqi",
            "Changsha",
            "Xi’an",
            "Hangzhou",
            "Wuhan",
            "Tianjin",
            "Xining",
            "Chengdu",
            "Hong Kong",
            "Shanghai"
           ],
           "type": "scattermapbox"
          }
         ],
         "name": "1959-12-31"
        },
        {
         "data": [
          {
           "hovertemplate": "<b>%{hovertext}</b><br><br>year=1960-12-31<br>films_in_year=%{marker.size}<br>city=%{text}<br>latitude=%{lat}<br>longitude=%{lon}<br>colour_film_ratio_in_year=%{marker.color}<extra></extra>",
           "hovertext": [
            "Northeast",
            "Beijing",
            "Shandong",
            "Gansu",
            "Western Europe",
            "Anhui",
            "Jiangsu",
            "Canton",
            "Soviet Union",
            "Inner Mongolia",
            "Xinjiang",
            "Hunan",
            "Xi'an",
            "Zhejiang",
            "Hubei",
            "Tianjin",
            "Qinghai",
            "Sichuan",
            "Hong Kong",
            "Shanghai (all)"
           ],
           "ids": [
            "Northeast",
            "Beijing",
            "Shandong",
            "Gansu",
            "Western Europe",
            "Anhui",
            "Jiangsu",
            "Canton",
            "Soviet Union",
            "Inner Mongolia",
            "Xinjiang",
            "Hunan",
            "Xi'an",
            "Zhejiang",
            "Hubei",
            "Tianjin",
            "Qinghai",
            "Sichuan",
            "Hong Kong",
            "Shanghai (all)"
           ],
           "lat": [
            43.816,
            39.9042,
            36.6518,
            36.0614,
            48.8566,
            31.8206,
            32.0584,
            23.1291,
            55.7558,
            40.8415,
            43.8266,
            28.2278,
            34.2658,
            30.2741,
            30.5928,
            39.0851,
            36.6173,
            30.5723,
            22.3139,
            31.2304
           ],
           "legendgroup": "",
           "lon": [
            125.3236,
            116.4074,
            117.1201,
            103.8342,
            2.3522,
            117.229,
            118.7965,
            113.2644,
            37.6173,
            111.752,
            87.6169,
            112.9389,
            108.9541,
            120.1552,
            114.3052,
            117.1994,
            101.7778,
            104.0665,
            114.1694,
            121.4737
           ],
           "marker": {
            "color": [
             0.1232876712328767,
             0.3663366336633663,
             0,
             0,
             1,
             0,
             0,
             0.1666666666666666,
             1,
             0.5,
             0.3333333333333333,
             0,
             0.1,
             0,
             0,
             0.5,
             0,
             0,
             0,
             0.1355140186915887
            ],
            "coloraxis": "coloraxis",
            "size": [
             146,
             101,
             2,
             1,
             1,
             3,
             1,
             6,
             1,
             2,
             3,
             1,
             10,
             1,
             3,
             2,
             1,
             1,
             0,
             234
            ],
            "sizemode": "area",
            "sizeref": 0.05102222222222222
           },
           "mode": "markers+text",
           "name": "",
           "showlegend": false,
           "subplot": "mapbox",
           "text": [
            "Changchun",
            "Beijing",
            "Jinan",
            "Lanzhou",
            "Paris",
            "Hefei",
            "Nanjing",
            "Guangzhou",
            "Moscow",
            "Hohhot",
            "Ürümqi",
            "Changsha",
            "Xi’an",
            "Hangzhou",
            "Wuhan",
            "Tianjin",
            "Xining",
            "Chengdu",
            "Hong Kong",
            "Shanghai"
           ],
           "type": "scattermapbox"
          }
         ],
         "name": "1960-12-31"
        },
        {
         "data": [
          {
           "hovertemplate": "<b>%{hovertext}</b><br><br>year=1961-12-31<br>films_in_year=%{marker.size}<br>city=%{text}<br>latitude=%{lat}<br>longitude=%{lon}<br>colour_film_ratio_in_year=%{marker.color}<extra></extra>",
           "hovertext": [
            "Northeast",
            "Beijing",
            "Shandong",
            "Gansu",
            "Western Europe",
            "Anhui",
            "Jiangsu",
            "Canton",
            "Soviet Union",
            "Inner Mongolia",
            "Xinjiang",
            "Hunan",
            "Xi'an",
            "Zhejiang",
            "Hubei",
            "Tianjin",
            "Qinghai",
            "Sichuan",
            "Hong Kong",
            "Shanghai (all)"
           ],
           "ids": [
            "Northeast",
            "Beijing",
            "Shandong",
            "Gansu",
            "Western Europe",
            "Anhui",
            "Jiangsu",
            "Canton",
            "Soviet Union",
            "Inner Mongolia",
            "Xinjiang",
            "Hunan",
            "Xi'an",
            "Zhejiang",
            "Hubei",
            "Tianjin",
            "Qinghai",
            "Sichuan",
            "Hong Kong",
            "Shanghai (all)"
           ],
           "lat": [
            43.816,
            39.9042,
            36.6518,
            36.0614,
            48.8566,
            31.8206,
            32.0584,
            23.1291,
            55.7558,
            40.8415,
            43.8266,
            28.2278,
            34.2658,
            30.2741,
            30.5928,
            39.0851,
            36.6173,
            30.5723,
            22.3139,
            31.2304
           ],
           "legendgroup": "",
           "lon": [
            125.3236,
            116.4074,
            117.1201,
            103.8342,
            2.3522,
            117.229,
            118.7965,
            113.2644,
            37.6173,
            111.752,
            87.6169,
            112.9389,
            108.9541,
            120.1552,
            114.3052,
            117.1994,
            101.7778,
            104.0665,
            114.1694,
            121.4737
           ],
           "marker": {
            "color": [
             0.131578947368421,
             0.3796296296296296,
             0,
             0,
             1,
             0,
             0,
             0.2857142857142857,
             1,
             0.5,
             0.25,
             0,
             0.0833333333333333,
             0,
             0.25,
             0.5,
             0,
             0.5,
             0,
             0.1493212669683258
            ],
            "coloraxis": "coloraxis",
            "size": [
             152,
             108,
             2,
             1,
             1,
             5,
             1,
             7,
             1,
             2,
             4,
             1,
             12,
             1,
             4,
             2,
             1,
             2,
             0,
             241
            ],
            "sizemode": "area",
            "sizeref": 0.05102222222222222
           },
           "mode": "markers+text",
           "name": "",
           "showlegend": false,
           "subplot": "mapbox",
           "text": [
            "Changchun",
            "Beijing",
            "Jinan",
            "Lanzhou",
            "Paris",
            "Hefei",
            "Nanjing",
            "Guangzhou",
            "Moscow",
            "Hohhot",
            "Ürümqi",
            "Changsha",
            "Xi’an",
            "Hangzhou",
            "Wuhan",
            "Tianjin",
            "Xining",
            "Chengdu",
            "Hong Kong",
            "Shanghai"
           ],
           "type": "scattermapbox"
          }
         ],
         "name": "1961-12-31"
        },
        {
         "data": [
          {
           "hovertemplate": "<b>%{hovertext}</b><br><br>year=1962-12-31<br>films_in_year=%{marker.size}<br>city=%{text}<br>latitude=%{lat}<br>longitude=%{lon}<br>colour_film_ratio_in_year=%{marker.color}<extra></extra>",
           "hovertext": [
            "Northeast",
            "Beijing",
            "Shandong",
            "Gansu",
            "Western Europe",
            "Anhui",
            "Jiangsu",
            "Canton",
            "Soviet Union",
            "Inner Mongolia",
            "Xinjiang",
            "Hunan",
            "Xi'an",
            "Zhejiang",
            "Hubei",
            "Tianjin",
            "Qinghai",
            "Sichuan",
            "Hong Kong",
            "Shanghai (all)"
           ],
           "ids": [
            "Northeast",
            "Beijing",
            "Shandong",
            "Gansu",
            "Western Europe",
            "Anhui",
            "Jiangsu",
            "Canton",
            "Soviet Union",
            "Inner Mongolia",
            "Xinjiang",
            "Hunan",
            "Xi'an",
            "Zhejiang",
            "Hubei",
            "Tianjin",
            "Qinghai",
            "Sichuan",
            "Hong Kong",
            "Shanghai (all)"
           ],
           "lat": [
            43.816,
            39.9042,
            36.6518,
            36.0614,
            48.8566,
            31.8206,
            32.0584,
            23.1291,
            55.7558,
            40.8415,
            43.8266,
            28.2278,
            34.2658,
            30.2741,
            30.5928,
            39.0851,
            36.6173,
            30.5723,
            22.3139,
            31.2304
           ],
           "legendgroup": "",
           "lon": [
            125.3236,
            116.4074,
            117.1201,
            103.8342,
            2.3522,
            117.229,
            118.7965,
            113.2644,
            37.6173,
            111.752,
            87.6169,
            112.9389,
            108.9541,
            120.1552,
            114.3052,
            117.1994,
            101.7778,
            104.0665,
            114.1694,
            121.4737
           ],
           "marker": {
            "color": [
             0.1401273885350318,
             0.3770491803278688,
             0,
             0,
             1,
             0,
             0,
             0.1818181818181818,
             1,
             0.5,
             0.4,
             0,
             0.1333333333333333,
             0,
             0.25,
             0.5,
             0,
             0.3333333333333333,
             0.6666666666666666,
             0.1572052401746725
            ],
            "coloraxis": "coloraxis",
            "size": [
             157,
             122,
             2,
             1,
             1,
             5,
             1,
             11,
             1,
             2,
             5,
             1,
             15,
             1,
             4,
             2,
             1,
             3,
             6,
             249
            ],
            "sizemode": "area",
            "sizeref": 0.05102222222222222
           },
           "mode": "markers+text",
           "name": "",
           "showlegend": false,
           "subplot": "mapbox",
           "text": [
            "Changchun",
            "Beijing",
            "Jinan",
            "Lanzhou",
            "Paris",
            "Hefei",
            "Nanjing",
            "Guangzhou",
            "Moscow",
            "Hohhot",
            "Ürümqi",
            "Changsha",
            "Xi’an",
            "Hangzhou",
            "Wuhan",
            "Tianjin",
            "Xining",
            "Chengdu",
            "Hong Kong",
            "Shanghai"
           ],
           "type": "scattermapbox"
          }
         ],
         "name": "1962-12-31"
        },
        {
         "data": [
          {
           "hovertemplate": "<b>%{hovertext}</b><br><br>year=1963-12-31<br>films_in_year=%{marker.size}<br>city=%{text}<br>latitude=%{lat}<br>longitude=%{lon}<br>colour_film_ratio_in_year=%{marker.color}<extra></extra>",
           "hovertext": [
            "Northeast",
            "Beijing",
            "Shandong",
            "Gansu",
            "Western Europe",
            "Anhui",
            "Jiangsu",
            "Canton",
            "Soviet Union",
            "Inner Mongolia",
            "Xinjiang",
            "Hunan",
            "Xi'an",
            "Zhejiang",
            "Hubei",
            "Tianjin",
            "Qinghai",
            "Sichuan",
            "Hong Kong",
            "Shanghai (all)"
           ],
           "ids": [
            "Northeast",
            "Beijing",
            "Shandong",
            "Gansu",
            "Western Europe",
            "Anhui",
            "Jiangsu",
            "Canton",
            "Soviet Union",
            "Inner Mongolia",
            "Xinjiang",
            "Hunan",
            "Xi'an",
            "Zhejiang",
            "Hubei",
            "Tianjin",
            "Qinghai",
            "Sichuan",
            "Hong Kong",
            "Shanghai (all)"
           ],
           "lat": [
            43.816,
            39.9042,
            36.6518,
            36.0614,
            48.8566,
            31.8206,
            32.0584,
            23.1291,
            55.7558,
            40.8415,
            43.8266,
            28.2278,
            34.2658,
            30.2741,
            30.5928,
            39.0851,
            36.6173,
            30.5723,
            22.3139,
            31.2304
           ],
           "legendgroup": "",
           "lon": [
            125.3236,
            116.4074,
            117.1201,
            103.8342,
            2.3522,
            117.229,
            118.7965,
            113.2644,
            37.6173,
            111.752,
            87.6169,
            112.9389,
            108.9541,
            120.1552,
            114.3052,
            117.1994,
            101.7778,
            104.0665,
            114.1694,
            121.4737
           ],
           "marker": {
            "color": [
             0.1506024096385542,
             0.3656716417910448,
             0,
             0,
             1,
             0,
             0,
             0.2142857142857142,
             1,
             0.5,
             0.4,
             0,
             0.125,
             0,
             0.25,
             0.5,
             0,
             0.3333333333333333,
             0.7692307692307693,
             0.1680327868852459
            ],
            "coloraxis": "coloraxis",
            "size": [
             166,
             134,
             2,
             1,
             1,
             5,
             1,
             14,
             1,
             2,
             5,
             1,
             16,
             1,
             4,
             2,
             1,
             3,
             13,
             264
            ],
            "sizemode": "area",
            "sizeref": 0.05102222222222222
           },
           "mode": "markers+text",
           "name": "",
           "showlegend": false,
           "subplot": "mapbox",
           "text": [
            "Changchun",
            "Beijing",
            "Jinan",
            "Lanzhou",
            "Paris",
            "Hefei",
            "Nanjing",
            "Guangzhou",
            "Moscow",
            "Hohhot",
            "Ürümqi",
            "Changsha",
            "Xi’an",
            "Hangzhou",
            "Wuhan",
            "Tianjin",
            "Xining",
            "Chengdu",
            "Hong Kong",
            "Shanghai"
           ],
           "type": "scattermapbox"
          }
         ],
         "name": "1963-12-31"
        },
        {
         "data": [
          {
           "hovertemplate": "<b>%{hovertext}</b><br><br>year=1964-12-31<br>films_in_year=%{marker.size}<br>city=%{text}<br>latitude=%{lat}<br>longitude=%{lon}<br>colour_film_ratio_in_year=%{marker.color}<extra></extra>",
           "hovertext": [
            "Northeast",
            "Beijing",
            "Shandong",
            "Gansu",
            "Western Europe",
            "Anhui",
            "Jiangsu",
            "Canton",
            "Soviet Union",
            "Inner Mongolia",
            "Xinjiang",
            "Hunan",
            "Xi'an",
            "Zhejiang",
            "Hubei",
            "Tianjin",
            "Qinghai",
            "Sichuan",
            "Hong Kong",
            "Shanghai (all)"
           ],
           "ids": [
            "Northeast",
            "Beijing",
            "Shandong",
            "Gansu",
            "Western Europe",
            "Anhui",
            "Jiangsu",
            "Canton",
            "Soviet Union",
            "Inner Mongolia",
            "Xinjiang",
            "Hunan",
            "Xi'an",
            "Zhejiang",
            "Hubei",
            "Tianjin",
            "Qinghai",
            "Sichuan",
            "Hong Kong",
            "Shanghai (all)"
           ],
           "lat": [
            43.816,
            39.9042,
            36.6518,
            36.0614,
            48.8566,
            31.8206,
            32.0584,
            23.1291,
            55.7558,
            40.8415,
            43.8266,
            28.2278,
            34.2658,
            30.2741,
            30.5928,
            39.0851,
            36.6173,
            30.5723,
            22.3139,
            31.2304
           ],
           "legendgroup": "",
           "lon": [
            125.3236,
            116.4074,
            117.1201,
            103.8342,
            2.3522,
            117.229,
            118.7965,
            113.2644,
            37.6173,
            111.752,
            87.6169,
            112.9389,
            108.9541,
            120.1552,
            114.3052,
            117.1994,
            101.7778,
            104.0665,
            114.1694,
            121.4737
           ],
           "marker": {
            "color": [
             0.1724137931034483,
             0.3825503355704698,
             0,
             0,
             1,
             0,
             0,
             0.25,
             1,
             0.5,
             0.4,
             0,
             0.1764705882352941,
             0,
             0.25,
             0.5,
             0,
             0.3333333333333333,
             0.8,
             0.1785714285714285
            ],
            "coloraxis": "coloraxis",
            "size": [
             174,
             149,
             2,
             1,
             1,
             5,
             1,
             16,
             1,
             2,
             5,
             1,
             17,
             1,
             4,
             2,
             1,
             3,
             15,
             272
            ],
            "sizemode": "area",
            "sizeref": 0.05102222222222222
           },
           "mode": "markers+text",
           "name": "",
           "showlegend": false,
           "subplot": "mapbox",
           "text": [
            "Changchun",
            "Beijing",
            "Jinan",
            "Lanzhou",
            "Paris",
            "Hefei",
            "Nanjing",
            "Guangzhou",
            "Moscow",
            "Hohhot",
            "Ürümqi",
            "Changsha",
            "Xi’an",
            "Hangzhou",
            "Wuhan",
            "Tianjin",
            "Xining",
            "Chengdu",
            "Hong Kong",
            "Shanghai"
           ],
           "type": "scattermapbox"
          }
         ],
         "name": "1964-12-31"
        },
        {
         "data": [
          {
           "hovertemplate": "<b>%{hovertext}</b><br><br>year=1965-12-31<br>films_in_year=%{marker.size}<br>city=%{text}<br>latitude=%{lat}<br>longitude=%{lon}<br>colour_film_ratio_in_year=%{marker.color}<extra></extra>",
           "hovertext": [
            "Northeast",
            "Beijing",
            "Shandong",
            "Gansu",
            "Western Europe",
            "Anhui",
            "Jiangsu",
            "Canton",
            "Soviet Union",
            "Inner Mongolia",
            "Xinjiang",
            "Hunan",
            "Xi'an",
            "Zhejiang",
            "Hubei",
            "Tianjin",
            "Qinghai",
            "Sichuan",
            "Hong Kong",
            "Shanghai (all)"
           ],
           "ids": [
            "Northeast",
            "Beijing",
            "Shandong",
            "Gansu",
            "Western Europe",
            "Anhui",
            "Jiangsu",
            "Canton",
            "Soviet Union",
            "Inner Mongolia",
            "Xinjiang",
            "Hunan",
            "Xi'an",
            "Zhejiang",
            "Hubei",
            "Tianjin",
            "Qinghai",
            "Sichuan",
            "Hong Kong",
            "Shanghai (all)"
           ],
           "lat": [
            43.816,
            39.9042,
            36.6518,
            36.0614,
            48.8566,
            31.8206,
            32.0584,
            23.1291,
            55.7558,
            40.8415,
            43.8266,
            28.2278,
            34.2658,
            30.2741,
            30.5928,
            39.0851,
            36.6173,
            30.5723,
            22.3139,
            31.2304
           ],
           "legendgroup": "",
           "lon": [
            125.3236,
            116.4074,
            117.1201,
            103.8342,
            2.3522,
            117.229,
            118.7965,
            113.2644,
            37.6173,
            111.752,
            87.6169,
            112.9389,
            108.9541,
            120.1552,
            114.3052,
            117.1994,
            101.7778,
            104.0665,
            114.1694,
            121.4737
           ],
           "marker": {
            "color": [
             0.1935483870967742,
             0.3855421686746988,
             0,
             0,
             1,
             0.1666666666666666,
             0,
             0.2631578947368421,
             1,
             0.5,
             0.4,
             0,
             0.15,
             0,
             0.25,
             0.5,
             0,
             0.3333333333333333,
             0.8,
             0.1962264150943396
            ],
            "coloraxis": "coloraxis",
            "size": [
             186,
             166,
             2,
             1,
             1,
             6,
             1,
             19,
             1,
             2,
             5,
             1,
             20,
             1,
             4,
             2,
             1,
             3,
             15,
             285
            ],
            "sizemode": "area",
            "sizeref": 0.05102222222222222
           },
           "mode": "markers+text",
           "name": "",
           "showlegend": false,
           "subplot": "mapbox",
           "text": [
            "Changchun",
            "Beijing",
            "Jinan",
            "Lanzhou",
            "Paris",
            "Hefei",
            "Nanjing",
            "Guangzhou",
            "Moscow",
            "Hohhot",
            "Ürümqi",
            "Changsha",
            "Xi’an",
            "Hangzhou",
            "Wuhan",
            "Tianjin",
            "Xining",
            "Chengdu",
            "Hong Kong",
            "Shanghai"
           ],
           "type": "scattermapbox"
          }
         ],
         "name": "1965-12-31"
        },
        {
         "data": [
          {
           "hovertemplate": "<b>%{hovertext}</b><br><br>year=1966-12-31<br>films_in_year=%{marker.size}<br>city=%{text}<br>latitude=%{lat}<br>longitude=%{lon}<br>colour_film_ratio_in_year=%{marker.color}<extra></extra>",
           "hovertext": [
            "Northeast",
            "Beijing",
            "Shandong",
            "Gansu",
            "Western Europe",
            "Anhui",
            "Jiangsu",
            "Canton",
            "Soviet Union",
            "Inner Mongolia",
            "Xinjiang",
            "Hunan",
            "Xi'an",
            "Zhejiang",
            "Hubei",
            "Tianjin",
            "Qinghai",
            "Sichuan",
            "Hong Kong",
            "Shanghai (all)"
           ],
           "ids": [
            "Northeast",
            "Beijing",
            "Shandong",
            "Gansu",
            "Western Europe",
            "Anhui",
            "Jiangsu",
            "Canton",
            "Soviet Union",
            "Inner Mongolia",
            "Xinjiang",
            "Hunan",
            "Xi'an",
            "Zhejiang",
            "Hubei",
            "Tianjin",
            "Qinghai",
            "Sichuan",
            "Hong Kong",
            "Shanghai (all)"
           ],
           "lat": [
            43.816,
            39.9042,
            36.6518,
            36.0614,
            48.8566,
            31.8206,
            32.0584,
            23.1291,
            55.7558,
            40.8415,
            43.8266,
            28.2278,
            34.2658,
            30.2741,
            30.5928,
            39.0851,
            36.6173,
            30.5723,
            22.3139,
            31.2304
           ],
           "legendgroup": "",
           "lon": [
            125.3236,
            116.4074,
            117.1201,
            103.8342,
            2.3522,
            117.229,
            118.7965,
            113.2644,
            37.6173,
            111.752,
            87.6169,
            112.9389,
            108.9541,
            120.1552,
            114.3052,
            117.1994,
            101.7778,
            104.0665,
            114.1694,
            121.4737
           ],
           "marker": {
            "color": [
             0.1968085106382978,
             0.3801169590643274,
             0,
             0,
             1,
             0.1666666666666666,
             0,
             0.375,
             1,
             0.5,
             0.4,
             0,
             0.1363636363636363,
             0,
             0.25,
             0.5,
             0,
             0.3333333333333333,
             0.8,
             0.198501872659176
            ],
            "coloraxis": "coloraxis",
            "size": [
             188,
             171,
             2,
             1,
             1,
             6,
             1,
             24,
             1,
             2,
             5,
             1,
             22,
             1,
             4,
             2,
             1,
             3,
             15,
             287
            ],
            "sizemode": "area",
            "sizeref": 0.05102222222222222
           },
           "mode": "markers+text",
           "name": "",
           "showlegend": false,
           "subplot": "mapbox",
           "text": [
            "Changchun",
            "Beijing",
            "Jinan",
            "Lanzhou",
            "Paris",
            "Hefei",
            "Nanjing",
            "Guangzhou",
            "Moscow",
            "Hohhot",
            "Ürümqi",
            "Changsha",
            "Xi’an",
            "Hangzhou",
            "Wuhan",
            "Tianjin",
            "Xining",
            "Chengdu",
            "Hong Kong",
            "Shanghai"
           ],
           "type": "scattermapbox"
          }
         ],
         "name": "1966-12-31"
        }
       ],
       "layout": {
        "coloraxis": {
         "cmax": 1,
         "cmin": 0,
         "colorbar": {
          "title": {
           "text": "colour_film_ratio_in_year"
          }
         },
         "colorscale": [
          [
           0,
           "rgb(253, 237, 176)"
          ],
          [
           0.09090909090909091,
           "rgb(250, 205, 145)"
          ],
          [
           0.18181818181818182,
           "rgb(246, 173, 119)"
          ],
          [
           0.2727272727272727,
           "rgb(240, 142, 98)"
          ],
          [
           0.36363636363636365,
           "rgb(231, 109, 84)"
          ],
          [
           0.45454545454545453,
           "rgb(216, 80, 83)"
          ],
          [
           0.5454545454545454,
           "rgb(195, 56, 90)"
          ],
          [
           0.6363636363636364,
           "rgb(168, 40, 96)"
          ],
          [
           0.7272727272727273,
           "rgb(138, 29, 99)"
          ],
          [
           0.8181818181818182,
           "rgb(107, 24, 93)"
          ],
          [
           0.9090909090909091,
           "rgb(76, 21, 80)"
          ],
          [
           1,
           "rgb(47, 15, 61)"
          ]
         ]
        },
        "legend": {
         "itemsizing": "constant",
         "tracegroupgap": 0
        },
        "mapbox": {
         "accesstoken": "pk.eyJ1IjoiZWwtbXVuZG8iLCJhIjoiY2xnZmNkaWdrMDBhdTNsbGl2Y3BuZXpjZiJ9.rKJlU_5fISeMf9GKzojK3g",
         "center": {
          "lat": 35.795075,
          "lon": 103.31769
         },
         "domain": {
          "x": [
           0,
           1
          ],
          "y": [
           0,
           1
          ]
         },
         "style": "mapbox://styles/el-mundo/clgse9vm7001x01p6hrli21dq",
         "zoom": 3
        },
        "margin": {
         "t": 60
        },
        "sliders": [
         {
          "active": 0,
          "currentvalue": {
           "prefix": "year="
          },
          "len": 0.9,
          "pad": {
           "b": 10,
           "t": 60
          },
          "steps": [
           {
            "args": [
             [
              "1949-12-31"
             ],
             {
              "frame": {
               "duration": 0,
               "redraw": true
              },
              "fromcurrent": true,
              "mode": "immediate",
              "transition": {
               "duration": 0,
               "easing": "linear"
              }
             }
            ],
            "label": "1949-12-31",
            "method": "animate"
           },
           {
            "args": [
             [
              "1950-12-31"
             ],
             {
              "frame": {
               "duration": 0,
               "redraw": true
              },
              "fromcurrent": true,
              "mode": "immediate",
              "transition": {
               "duration": 0,
               "easing": "linear"
              }
             }
            ],
            "label": "1950-12-31",
            "method": "animate"
           },
           {
            "args": [
             [
              "1951-12-31"
             ],
             {
              "frame": {
               "duration": 0,
               "redraw": true
              },
              "fromcurrent": true,
              "mode": "immediate",
              "transition": {
               "duration": 0,
               "easing": "linear"
              }
             }
            ],
            "label": "1951-12-31",
            "method": "animate"
           },
           {
            "args": [
             [
              "1952-12-31"
             ],
             {
              "frame": {
               "duration": 0,
               "redraw": true
              },
              "fromcurrent": true,
              "mode": "immediate",
              "transition": {
               "duration": 0,
               "easing": "linear"
              }
             }
            ],
            "label": "1952-12-31",
            "method": "animate"
           },
           {
            "args": [
             [
              "1953-12-31"
             ],
             {
              "frame": {
               "duration": 0,
               "redraw": true
              },
              "fromcurrent": true,
              "mode": "immediate",
              "transition": {
               "duration": 0,
               "easing": "linear"
              }
             }
            ],
            "label": "1953-12-31",
            "method": "animate"
           },
           {
            "args": [
             [
              "1954-12-31"
             ],
             {
              "frame": {
               "duration": 0,
               "redraw": true
              },
              "fromcurrent": true,
              "mode": "immediate",
              "transition": {
               "duration": 0,
               "easing": "linear"
              }
             }
            ],
            "label": "1954-12-31",
            "method": "animate"
           },
           {
            "args": [
             [
              "1955-12-31"
             ],
             {
              "frame": {
               "duration": 0,
               "redraw": true
              },
              "fromcurrent": true,
              "mode": "immediate",
              "transition": {
               "duration": 0,
               "easing": "linear"
              }
             }
            ],
            "label": "1955-12-31",
            "method": "animate"
           },
           {
            "args": [
             [
              "1956-12-31"
             ],
             {
              "frame": {
               "duration": 0,
               "redraw": true
              },
              "fromcurrent": true,
              "mode": "immediate",
              "transition": {
               "duration": 0,
               "easing": "linear"
              }
             }
            ],
            "label": "1956-12-31",
            "method": "animate"
           },
           {
            "args": [
             [
              "1957-12-31"
             ],
             {
              "frame": {
               "duration": 0,
               "redraw": true
              },
              "fromcurrent": true,
              "mode": "immediate",
              "transition": {
               "duration": 0,
               "easing": "linear"
              }
             }
            ],
            "label": "1957-12-31",
            "method": "animate"
           },
           {
            "args": [
             [
              "1958-12-31"
             ],
             {
              "frame": {
               "duration": 0,
               "redraw": true
              },
              "fromcurrent": true,
              "mode": "immediate",
              "transition": {
               "duration": 0,
               "easing": "linear"
              }
             }
            ],
            "label": "1958-12-31",
            "method": "animate"
           },
           {
            "args": [
             [
              "1959-12-31"
             ],
             {
              "frame": {
               "duration": 0,
               "redraw": true
              },
              "fromcurrent": true,
              "mode": "immediate",
              "transition": {
               "duration": 0,
               "easing": "linear"
              }
             }
            ],
            "label": "1959-12-31",
            "method": "animate"
           },
           {
            "args": [
             [
              "1960-12-31"
             ],
             {
              "frame": {
               "duration": 0,
               "redraw": true
              },
              "fromcurrent": true,
              "mode": "immediate",
              "transition": {
               "duration": 0,
               "easing": "linear"
              }
             }
            ],
            "label": "1960-12-31",
            "method": "animate"
           },
           {
            "args": [
             [
              "1961-12-31"
             ],
             {
              "frame": {
               "duration": 0,
               "redraw": true
              },
              "fromcurrent": true,
              "mode": "immediate",
              "transition": {
               "duration": 0,
               "easing": "linear"
              }
             }
            ],
            "label": "1961-12-31",
            "method": "animate"
           },
           {
            "args": [
             [
              "1962-12-31"
             ],
             {
              "frame": {
               "duration": 0,
               "redraw": true
              },
              "fromcurrent": true,
              "mode": "immediate",
              "transition": {
               "duration": 0,
               "easing": "linear"
              }
             }
            ],
            "label": "1962-12-31",
            "method": "animate"
           },
           {
            "args": [
             [
              "1963-12-31"
             ],
             {
              "frame": {
               "duration": 0,
               "redraw": true
              },
              "fromcurrent": true,
              "mode": "immediate",
              "transition": {
               "duration": 0,
               "easing": "linear"
              }
             }
            ],
            "label": "1963-12-31",
            "method": "animate"
           },
           {
            "args": [
             [
              "1964-12-31"
             ],
             {
              "frame": {
               "duration": 0,
               "redraw": true
              },
              "fromcurrent": true,
              "mode": "immediate",
              "transition": {
               "duration": 0,
               "easing": "linear"
              }
             }
            ],
            "label": "1964-12-31",
            "method": "animate"
           },
           {
            "args": [
             [
              "1965-12-31"
             ],
             {
              "frame": {
               "duration": 0,
               "redraw": true
              },
              "fromcurrent": true,
              "mode": "immediate",
              "transition": {
               "duration": 0,
               "easing": "linear"
              }
             }
            ],
            "label": "1965-12-31",
            "method": "animate"
           },
           {
            "args": [
             [
              "1966-12-31"
             ],
             {
              "frame": {
               "duration": 0,
               "redraw": true
              },
              "fromcurrent": true,
              "mode": "immediate",
              "transition": {
               "duration": 0,
               "easing": "linear"
              }
             }
            ],
            "label": "1966-12-31",
            "method": "animate"
           }
          ],
          "x": 0.1,
          "xanchor": "left",
          "y": 0,
          "yanchor": "top"
         }
        ],
        "template": {
         "data": {
          "bar": [
           {
            "error_x": {
             "color": "#2a3f5f"
            },
            "error_y": {
             "color": "#2a3f5f"
            },
            "marker": {
             "line": {
              "color": "#E5ECF6",
              "width": 0.5
             },
             "pattern": {
              "fillmode": "overlay",
              "size": 10,
              "solidity": 0.2
             }
            },
            "type": "bar"
           }
          ],
          "barpolar": [
           {
            "marker": {
             "line": {
              "color": "#E5ECF6",
              "width": 0.5
             },
             "pattern": {
              "fillmode": "overlay",
              "size": 10,
              "solidity": 0.2
             }
            },
            "type": "barpolar"
           }
          ],
          "carpet": [
           {
            "aaxis": {
             "endlinecolor": "#2a3f5f",
             "gridcolor": "white",
             "linecolor": "white",
             "minorgridcolor": "white",
             "startlinecolor": "#2a3f5f"
            },
            "baxis": {
             "endlinecolor": "#2a3f5f",
             "gridcolor": "white",
             "linecolor": "white",
             "minorgridcolor": "white",
             "startlinecolor": "#2a3f5f"
            },
            "type": "carpet"
           }
          ],
          "choropleth": [
           {
            "colorbar": {
             "outlinewidth": 0,
             "ticks": ""
            },
            "type": "choropleth"
           }
          ],
          "contour": [
           {
            "colorbar": {
             "outlinewidth": 0,
             "ticks": ""
            },
            "colorscale": [
             [
              0,
              "#0d0887"
             ],
             [
              0.1111111111111111,
              "#46039f"
             ],
             [
              0.2222222222222222,
              "#7201a8"
             ],
             [
              0.3333333333333333,
              "#9c179e"
             ],
             [
              0.4444444444444444,
              "#bd3786"
             ],
             [
              0.5555555555555556,
              "#d8576b"
             ],
             [
              0.6666666666666666,
              "#ed7953"
             ],
             [
              0.7777777777777778,
              "#fb9f3a"
             ],
             [
              0.8888888888888888,
              "#fdca26"
             ],
             [
              1,
              "#f0f921"
             ]
            ],
            "type": "contour"
           }
          ],
          "contourcarpet": [
           {
            "colorbar": {
             "outlinewidth": 0,
             "ticks": ""
            },
            "type": "contourcarpet"
           }
          ],
          "heatmap": [
           {
            "colorbar": {
             "outlinewidth": 0,
             "ticks": ""
            },
            "colorscale": [
             [
              0,
              "#0d0887"
             ],
             [
              0.1111111111111111,
              "#46039f"
             ],
             [
              0.2222222222222222,
              "#7201a8"
             ],
             [
              0.3333333333333333,
              "#9c179e"
             ],
             [
              0.4444444444444444,
              "#bd3786"
             ],
             [
              0.5555555555555556,
              "#d8576b"
             ],
             [
              0.6666666666666666,
              "#ed7953"
             ],
             [
              0.7777777777777778,
              "#fb9f3a"
             ],
             [
              0.8888888888888888,
              "#fdca26"
             ],
             [
              1,
              "#f0f921"
             ]
            ],
            "type": "heatmap"
           }
          ],
          "heatmapgl": [
           {
            "colorbar": {
             "outlinewidth": 0,
             "ticks": ""
            },
            "colorscale": [
             [
              0,
              "#0d0887"
             ],
             [
              0.1111111111111111,
              "#46039f"
             ],
             [
              0.2222222222222222,
              "#7201a8"
             ],
             [
              0.3333333333333333,
              "#9c179e"
             ],
             [
              0.4444444444444444,
              "#bd3786"
             ],
             [
              0.5555555555555556,
              "#d8576b"
             ],
             [
              0.6666666666666666,
              "#ed7953"
             ],
             [
              0.7777777777777778,
              "#fb9f3a"
             ],
             [
              0.8888888888888888,
              "#fdca26"
             ],
             [
              1,
              "#f0f921"
             ]
            ],
            "type": "heatmapgl"
           }
          ],
          "histogram": [
           {
            "marker": {
             "pattern": {
              "fillmode": "overlay",
              "size": 10,
              "solidity": 0.2
             }
            },
            "type": "histogram"
           }
          ],
          "histogram2d": [
           {
            "colorbar": {
             "outlinewidth": 0,
             "ticks": ""
            },
            "colorscale": [
             [
              0,
              "#0d0887"
             ],
             [
              0.1111111111111111,
              "#46039f"
             ],
             [
              0.2222222222222222,
              "#7201a8"
             ],
             [
              0.3333333333333333,
              "#9c179e"
             ],
             [
              0.4444444444444444,
              "#bd3786"
             ],
             [
              0.5555555555555556,
              "#d8576b"
             ],
             [
              0.6666666666666666,
              "#ed7953"
             ],
             [
              0.7777777777777778,
              "#fb9f3a"
             ],
             [
              0.8888888888888888,
              "#fdca26"
             ],
             [
              1,
              "#f0f921"
             ]
            ],
            "type": "histogram2d"
           }
          ],
          "histogram2dcontour": [
           {
            "colorbar": {
             "outlinewidth": 0,
             "ticks": ""
            },
            "colorscale": [
             [
              0,
              "#0d0887"
             ],
             [
              0.1111111111111111,
              "#46039f"
             ],
             [
              0.2222222222222222,
              "#7201a8"
             ],
             [
              0.3333333333333333,
              "#9c179e"
             ],
             [
              0.4444444444444444,
              "#bd3786"
             ],
             [
              0.5555555555555556,
              "#d8576b"
             ],
             [
              0.6666666666666666,
              "#ed7953"
             ],
             [
              0.7777777777777778,
              "#fb9f3a"
             ],
             [
              0.8888888888888888,
              "#fdca26"
             ],
             [
              1,
              "#f0f921"
             ]
            ],
            "type": "histogram2dcontour"
           }
          ],
          "mesh3d": [
           {
            "colorbar": {
             "outlinewidth": 0,
             "ticks": ""
            },
            "type": "mesh3d"
           }
          ],
          "parcoords": [
           {
            "line": {
             "colorbar": {
              "outlinewidth": 0,
              "ticks": ""
             }
            },
            "type": "parcoords"
           }
          ],
          "pie": [
           {
            "automargin": true,
            "type": "pie"
           }
          ],
          "scatter": [
           {
            "fillpattern": {
             "fillmode": "overlay",
             "size": 10,
             "solidity": 0.2
            },
            "type": "scatter"
           }
          ],
          "scatter3d": [
           {
            "line": {
             "colorbar": {
              "outlinewidth": 0,
              "ticks": ""
             }
            },
            "marker": {
             "colorbar": {
              "outlinewidth": 0,
              "ticks": ""
             }
            },
            "type": "scatter3d"
           }
          ],
          "scattercarpet": [
           {
            "marker": {
             "colorbar": {
              "outlinewidth": 0,
              "ticks": ""
             }
            },
            "type": "scattercarpet"
           }
          ],
          "scattergeo": [
           {
            "marker": {
             "colorbar": {
              "outlinewidth": 0,
              "ticks": ""
             }
            },
            "type": "scattergeo"
           }
          ],
          "scattergl": [
           {
            "marker": {
             "colorbar": {
              "outlinewidth": 0,
              "ticks": ""
             }
            },
            "type": "scattergl"
           }
          ],
          "scattermapbox": [
           {
            "marker": {
             "colorbar": {
              "outlinewidth": 0,
              "ticks": ""
             }
            },
            "type": "scattermapbox"
           }
          ],
          "scatterpolar": [
           {
            "marker": {
             "colorbar": {
              "outlinewidth": 0,
              "ticks": ""
             }
            },
            "type": "scatterpolar"
           }
          ],
          "scatterpolargl": [
           {
            "marker": {
             "colorbar": {
              "outlinewidth": 0,
              "ticks": ""
             }
            },
            "type": "scatterpolargl"
           }
          ],
          "scatterternary": [
           {
            "marker": {
             "colorbar": {
              "outlinewidth": 0,
              "ticks": ""
             }
            },
            "type": "scatterternary"
           }
          ],
          "surface": [
           {
            "colorbar": {
             "outlinewidth": 0,
             "ticks": ""
            },
            "colorscale": [
             [
              0,
              "#0d0887"
             ],
             [
              0.1111111111111111,
              "#46039f"
             ],
             [
              0.2222222222222222,
              "#7201a8"
             ],
             [
              0.3333333333333333,
              "#9c179e"
             ],
             [
              0.4444444444444444,
              "#bd3786"
             ],
             [
              0.5555555555555556,
              "#d8576b"
             ],
             [
              0.6666666666666666,
              "#ed7953"
             ],
             [
              0.7777777777777778,
              "#fb9f3a"
             ],
             [
              0.8888888888888888,
              "#fdca26"
             ],
             [
              1,
              "#f0f921"
             ]
            ],
            "type": "surface"
           }
          ],
          "table": [
           {
            "cells": {
             "fill": {
              "color": "#EBF0F8"
             },
             "line": {
              "color": "white"
             }
            },
            "header": {
             "fill": {
              "color": "#C8D4E3"
             },
             "line": {
              "color": "white"
             }
            },
            "type": "table"
           }
          ]
         },
         "layout": {
          "annotationdefaults": {
           "arrowcolor": "#2a3f5f",
           "arrowhead": 0,
           "arrowwidth": 1
          },
          "autotypenumbers": "strict",
          "coloraxis": {
           "colorbar": {
            "outlinewidth": 0,
            "ticks": ""
           }
          },
          "colorscale": {
           "diverging": [
            [
             0,
             "#8e0152"
            ],
            [
             0.1,
             "#c51b7d"
            ],
            [
             0.2,
             "#de77ae"
            ],
            [
             0.3,
             "#f1b6da"
            ],
            [
             0.4,
             "#fde0ef"
            ],
            [
             0.5,
             "#f7f7f7"
            ],
            [
             0.6,
             "#e6f5d0"
            ],
            [
             0.7,
             "#b8e186"
            ],
            [
             0.8,
             "#7fbc41"
            ],
            [
             0.9,
             "#4d9221"
            ],
            [
             1,
             "#276419"
            ]
           ],
           "sequential": [
            [
             0,
             "#0d0887"
            ],
            [
             0.1111111111111111,
             "#46039f"
            ],
            [
             0.2222222222222222,
             "#7201a8"
            ],
            [
             0.3333333333333333,
             "#9c179e"
            ],
            [
             0.4444444444444444,
             "#bd3786"
            ],
            [
             0.5555555555555556,
             "#d8576b"
            ],
            [
             0.6666666666666666,
             "#ed7953"
            ],
            [
             0.7777777777777778,
             "#fb9f3a"
            ],
            [
             0.8888888888888888,
             "#fdca26"
            ],
            [
             1,
             "#f0f921"
            ]
           ],
           "sequentialminus": [
            [
             0,
             "#0d0887"
            ],
            [
             0.1111111111111111,
             "#46039f"
            ],
            [
             0.2222222222222222,
             "#7201a8"
            ],
            [
             0.3333333333333333,
             "#9c179e"
            ],
            [
             0.4444444444444444,
             "#bd3786"
            ],
            [
             0.5555555555555556,
             "#d8576b"
            ],
            [
             0.6666666666666666,
             "#ed7953"
            ],
            [
             0.7777777777777778,
             "#fb9f3a"
            ],
            [
             0.8888888888888888,
             "#fdca26"
            ],
            [
             1,
             "#f0f921"
            ]
           ]
          },
          "colorway": [
           "#636efa",
           "#EF553B",
           "#00cc96",
           "#ab63fa",
           "#FFA15A",
           "#19d3f3",
           "#FF6692",
           "#B6E880",
           "#FF97FF",
           "#FECB52"
          ],
          "font": {
           "color": "#2a3f5f"
          },
          "geo": {
           "bgcolor": "white",
           "lakecolor": "white",
           "landcolor": "#E5ECF6",
           "showlakes": true,
           "showland": true,
           "subunitcolor": "white"
          },
          "hoverlabel": {
           "align": "left"
          },
          "hovermode": "closest",
          "mapbox": {
           "style": "light"
          },
          "paper_bgcolor": "white",
          "plot_bgcolor": "#E5ECF6",
          "polar": {
           "angularaxis": {
            "gridcolor": "white",
            "linecolor": "white",
            "ticks": ""
           },
           "bgcolor": "#E5ECF6",
           "radialaxis": {
            "gridcolor": "white",
            "linecolor": "white",
            "ticks": ""
           }
          },
          "scene": {
           "xaxis": {
            "backgroundcolor": "#E5ECF6",
            "gridcolor": "white",
            "gridwidth": 2,
            "linecolor": "white",
            "showbackground": true,
            "ticks": "",
            "zerolinecolor": "white"
           },
           "yaxis": {
            "backgroundcolor": "#E5ECF6",
            "gridcolor": "white",
            "gridwidth": 2,
            "linecolor": "white",
            "showbackground": true,
            "ticks": "",
            "zerolinecolor": "white"
           },
           "zaxis": {
            "backgroundcolor": "#E5ECF6",
            "gridcolor": "white",
            "gridwidth": 2,
            "linecolor": "white",
            "showbackground": true,
            "ticks": "",
            "zerolinecolor": "white"
           }
          },
          "shapedefaults": {
           "line": {
            "color": "#2a3f5f"
           }
          },
          "ternary": {
           "aaxis": {
            "gridcolor": "white",
            "linecolor": "white",
            "ticks": ""
           },
           "baxis": {
            "gridcolor": "white",
            "linecolor": "white",
            "ticks": ""
           },
           "bgcolor": "#E5ECF6",
           "caxis": {
            "gridcolor": "white",
            "linecolor": "white",
            "ticks": ""
           }
          },
          "title": {
           "x": 0.05
          },
          "xaxis": {
           "automargin": true,
           "gridcolor": "white",
           "linecolor": "white",
           "ticks": "",
           "title": {
            "standoff": 15
           },
           "zerolinecolor": "white",
           "zerolinewidth": 2
          },
          "yaxis": {
           "automargin": true,
           "gridcolor": "white",
           "linecolor": "white",
           "ticks": "",
           "title": {
            "standoff": 15
           },
           "zerolinecolor": "white",
           "zerolinewidth": 2
          }
         }
        },
        "updatemenus": [
         {
          "buttons": [
           {
            "args": [
             null,
             {
              "frame": {
               "duration": 500,
               "redraw": true
              },
              "fromcurrent": true,
              "mode": "immediate",
              "transition": {
               "duration": 500,
               "easing": "linear"
              }
             }
            ],
            "label": "&#9654;",
            "method": "animate"
           },
           {
            "args": [
             [
              null
             ],
             {
              "frame": {
               "duration": 0,
               "redraw": true
              },
              "fromcurrent": true,
              "mode": "immediate",
              "transition": {
               "duration": 0,
               "easing": "linear"
              }
             }
            ],
            "label": "&#9724;",
            "method": "animate"
           }
          ],
          "direction": "left",
          "pad": {
           "r": 10,
           "t": 70
          },
          "showactive": false,
          "type": "buttons",
          "x": 0.1,
          "xanchor": "right",
          "y": 0,
          "yanchor": "top"
         }
        ]
       }
      }
     },
     "metadata": {},
     "output_type": "display_data"
    }
   ],
   "source": [
    "fig = px.scatter_mapbox(df, lat=\"latitude\", lon=\"longitude\", size=\"films_in_year\",\n",
    "\t\t\t\t\tcolor=\"colour_film_ratio_in_year\", color_continuous_scale=\"matter\", range_color=[0, 1],\n",
    "                    size_max=75, text=\"city\", hover_name=\"geo_category\", zoom=3,\n",
    "                    animation_frame=\"year\", animation_group=\"geo_category\",\n",
    "                    mapbox_style=\"mapbox://styles/el-mundo/clgse9vm7001x01p6hrli21dq\")\n",
    "fig.update_traces(cluster=dict(enabled=True))\n",
    "fig.show()"
   ]
  }
 ],
 "metadata": {
  "kernelspec": {
   "display_name": "Python 3",
   "language": "python",
   "name": "python3"
  },
  "language_info": {
   "codemirror_mode": {
    "name": "ipython",
    "version": 3
   },
   "file_extension": ".py",
   "mimetype": "text/x-python",
   "name": "python",
   "nbconvert_exporter": "python",
   "pygments_lexer": "ipython3",
   "version": "3.9.6"
  },
  "orig_nbformat": 4
 },
 "nbformat": 4,
 "nbformat_minor": 2
}
