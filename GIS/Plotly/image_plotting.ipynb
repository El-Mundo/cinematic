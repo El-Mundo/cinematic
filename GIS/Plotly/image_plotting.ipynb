{
 "cells": [
  {
   "cell_type": "code",
   "execution_count": 2,
   "metadata": {},
   "outputs": [],
   "source": [
    "import plotly.express as px\n",
    "from PIL import Image\n",
    "\n",
    "import pandas as pd"
   ]
  },
  {
   "cell_type": "code",
   "execution_count": 3,
   "metadata": {},
   "outputs": [],
   "source": [
    "image_filename = \"./res/map.png\"\n",
    "world_map = Image.open(image_filename)\n",
    "df = pd.read_csv(\"../source/studios_geo_shanghai_splited(pixel)(year_isolated).csv\")"
   ]
  },
  {
   "cell_type": "code",
   "execution_count": null,
   "metadata": {},
   "outputs": [],
   "source": [
    "fig = px.imshow(world_map, binary_format=\"png\", binary_compression_level=0)\n",
    "fig.add_trace(px.scatter_mapbox(df, lat=\"latitude\", lon=\"longitude\", size=\"films_in_year\",\n",
    "\t\t\t\t\tcolor=\"colour_film_ratio_in_year\", color_continuous_scale=\"matter\", range_color=[0, 1],\n",
    "                    size_max=50, text=\"city\", zoom=3,\n",
    "                    animation_frame=\"year\", animation_group=\"geo_category\",\n",
    "                    mapbox_style=\"mapbox://styles/el-mundo/clgse9vm7001x01p6hrli21dq\"))\n",
    "fig.show()"
   ]
  }
 ],
 "metadata": {
  "kernelspec": {
   "display_name": "Python 3",
   "language": "python",
   "name": "python3"
  },
  "language_info": {
   "codemirror_mode": {
    "name": "ipython",
    "version": 3
   },
   "file_extension": ".py",
   "mimetype": "text/x-python",
   "name": "python",
   "nbconvert_exporter": "python",
   "pygments_lexer": "ipython3",
   "version": "3.9.6"
  },
  "orig_nbformat": 4
 },
 "nbformat": 4,
 "nbformat_minor": 2
}
